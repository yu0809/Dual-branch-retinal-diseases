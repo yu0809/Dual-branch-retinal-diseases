{
 "cells": [
  {
   "cell_type": "code",
   "execution_count": 4,
   "metadata": {},
   "outputs": [
    {
     "name": "stderr",
     "output_type": "stream",
     "text": [
      "C:\\Users\\HP\\Anaconda3\\lib\\site-packages\\sklearn\\utils\\validation.py:37: DeprecationWarning: distutils Version classes are deprecated. Use packaging.version instead.\n",
      "  LARGE_SPARSE_SUPPORTED = LooseVersion(scipy_version) >= '0.14.0'\n",
      "C:\\Users\\HP\\Anaconda3\\lib\\site-packages\\torchvision\\models\\_utils.py:209: UserWarning: The parameter 'pretrained' is deprecated since 0.13 and may be removed in the future, please use 'weights' instead.\n",
      "  f\"The parameter '{pretrained_param}' is deprecated since 0.13 and may be removed in the future, \"\n",
      "C:\\Users\\HP\\Anaconda3\\lib\\site-packages\\torchvision\\models\\_utils.py:223: UserWarning: Arguments other than a weight enum or `None` for 'weights' are deprecated since 0.13 and may be removed in the future. The current behavior is equivalent to passing `weights=ResNet50_Weights.IMAGENET1K_V1`. You can also use `weights=ResNet50_Weights.DEFAULT` to get the most up-to-date weights.\n",
      "  warnings.warn(msg)\n"
     ]
    }
   ],
   "source": [
    "import torch\n",
    "import torch.nn as nn\n",
    "import torch.optim as optim\n",
    "from torch.utils.data import Dataset, DataLoader\n",
    "import pandas as pd\n",
    "import numpy as np\n",
    "from torchvision import models\n",
    "from sklearn.preprocessing import LabelEncoder\n",
    "import os\n",
    "\n",
    "# 设置随机种子以确保可重复性\n",
    "def set_seed(seed=42):\n",
    "    torch.manual_seed(seed)\n",
    "    torch.cuda.manual_seed_all(seed)\n",
    "    np.random.seed(seed)\n",
    "    torch.backends.cudnn.deterministic = True\n",
    "    torch.backends.cudnn.benchmark = False\n",
    "\n",
    "set_seed(42)\n",
    "\n",
    "# 数据集类\n",
    "class NPYDataset(Dataset):\n",
    "    def __init__(self, csv_file, root_dir):\n",
    "        try:\n",
    "            self.annotations = pd.read_csv(csv_file, encoding='utf-8')\n",
    "        except UnicodeDecodeError:\n",
    "            self.annotations = pd.read_csv(csv_file, encoding='gbk')\n",
    "        self.root_dir = root_dir\n",
    "        self.le = LabelEncoder()\n",
    "        self.annotations['labels'] = self.annotations['labels'].apply(lambda x: x.strip(\"[]'\"))\n",
    "        self.annotations['labels'] = self.le.fit_transform(self.annotations['labels'])\n",
    "\n",
    "    def __len__(self):\n",
    "        return len(self.annotations)\n",
    "\n",
    "    def __getitem__(self, index):\n",
    "        img_name = os.path.join(self.root_dir, str(self.annotations.iloc[index, -1]) + '.npy')\n",
    "        image = np.load(img_name)\n",
    "        image = torch.tensor(image, dtype=torch.float32).permute(2, 0, 1)\n",
    "        label = self.annotations.iloc[index, 2]\n",
    "        return image, label\n",
    "\n",
    "# 模型定义\n",
    "class ResNet2D(nn.Module):\n",
    "    def __init__(self, num_classes):\n",
    "        super(ResNet2D, self).__init__()\n",
    "        # 使用ResNet50作为基础模型\n",
    "        self.resnet = models.resnet50(pretrained=True)\n",
    "        # 冻结预训练模型的参数\n",
    "        for param in self.resnet.parameters():\n",
    "            param.requires_grad = False\n",
    "\n",
    "        # 替换全连接层以适应新的分类任务\n",
    "        num_ftrs = self.resnet.fc.in_features  # 获取全连接层的输入特征数\n",
    "        self.resnet.fc = nn.Linear(num_ftrs, num_classes)  # 替换全连接层\n",
    "\n",
    "    def forward(self, x):\n",
    "        x = self.resnet(x)\n",
    "        return x\n",
    "\n",
    "# 之后的优化器、学习率调度器和训练循环可以保持不变\n",
    "\n",
    "# 训练和评估参数\n",
    "num_epochs = 10\n",
    "batch_size = 32\n",
    "learning_rate = 0.001\n",
    "\n",
    "# 设备配置\n",
    "device = torch.device('cuda' if torch.cuda.is_available() else 'cpu')\n",
    "\n",
    "# 数据加载\n",
    "train_dataset = NPYDataset(csv_file=r'C:\\Users\\HP\\Desktop\\指南者\\项目\\眼病预测\\train.csv', root_dir=r'C:\\Users\\HP\\Desktop\\指南者\\项目\\眼病预测\\normalized_gaus_train')\n",
    "train_loader = DataLoader(dataset=train_dataset, batch_size=batch_size, shuffle=True)\n",
    "\n",
    "test_dataset = NPYDataset(csv_file=r'C:\\Users\\HP\\Desktop\\指南者\\项目\\眼病预测\\all_gaus_double_test.csv', root_dir=r'C:\\Users\\HP\\Desktop\\指南者\\项目\\眼病预测\\all_normalized_double_test_images')\n",
    "test_loader = DataLoader(dataset=test_dataset, batch_size=batch_size, shuffle=False)\n",
    "\n",
    "validation_dataset = NPYDataset(csv_file=r'C:\\Users\\HP\\Desktop\\指南者\\项目\\眼病预测\\validation.csv', root_dir=r'C:\\Users\\HP\\Desktop\\指南者\\项目\\眼病预测\\normalized_gaus_validation')\n",
    "validation_loader = DataLoader(dataset=validation_dataset, batch_size=batch_size, shuffle=False)\n",
    "\n",
    "# 模型初始化\n",
    "num_classes = len(np.unique(train_dataset.annotations['labels']))\n",
    "\n",
    "# 创建一个权重数组\n",
    "# 这里假设类别标签已经编码为0, 1\n",
    "weights = torch.tensor([1.0, 1.0], dtype=torch.float32).to(device)\n",
    "\n",
    "# 使用加权损失函数\n",
    "criterion = nn.CrossEntropyLoss(weight=weights)\n",
    "\n",
    "model = ResNet2D(num_classes=num_classes).to(device)\n",
    "optimizer = optim.AdamW(model.parameters(), lr=learning_rate, weight_decay=1e-3)  # 增加权重衰减\n",
    "\n",
    "# 学习率调度器\n",
    "scheduler = torch.optim.lr_scheduler.StepLR(optimizer, step_size=10, gamma=0.1)\n",
    "\n",
    "# 训练模型的代码...\n",
    "# 请根据您的具体需求添加训练循环和验证/测试循环"
   ]
  },
  {
   "cell_type": "code",
   "execution_count": 5,
   "metadata": {},
   "outputs": [],
   "source": [
    "model_path = r'C:\\Users\\HP\\Desktop\\指南者\\项目\\眼病预测\\gaus_D_N classification\\trained_model.pth'  # 指定模型保存路径"
   ]
  },
  {
   "cell_type": "code",
   "execution_count": 6,
   "metadata": {},
   "outputs": [
    {
     "data": {
      "text/plain": [
       "<All keys matched successfully>"
      ]
     },
     "execution_count": 6,
     "metadata": {},
     "output_type": "execute_result"
    }
   ],
   "source": [
    "# 创建与之前相同的模型实例\n",
    "# 请将num_classes替换为您实际使用的类别数\n",
    "model = ResNet2D(num_classes=2)\n",
    "\n",
    "# 加载保存的模型状态字典，确保映射到CPU\n",
    "model.load_state_dict(torch.load(model_path, map_location=torch.device('cpu')))\n",
    "\n",
    "# 如果你要继续在训练模式下使用模型，别忘了调用 model.train()\n",
    "# 如果是用于评估或预测，调用 model.eval()"
   ]
  },
  {
   "cell_type": "code",
   "execution_count": 7,
   "metadata": {},
   "outputs": [
    {
     "name": "stdout",
     "output_type": "stream",
     "text": [
      "Accuracy of the model on the test images: 97.99 %\n",
      "Precision: 0.9800\n",
      "Recall: 0.9799\n",
      "F1 Score: 0.9799\n"
     ]
    }
   ],
   "source": [
    "from sklearn.metrics import precision_score, recall_score, f1_score\n",
    "model.eval()\n",
    "with torch.no_grad():\n",
    "    all_preds = []\n",
    "    all_labels = []\n",
    "    for images, labels in test_loader:\n",
    "        images, labels = images.to(device), labels.to(device).long()\n",
    "        outputs = model(images)\n",
    "        _, predicted = torch.max(outputs.data, 1)\n",
    "        \n",
    "        # 收集所有预测和标签\n",
    "        all_preds.extend(predicted.view(-1).cpu().numpy())\n",
    "        all_labels.extend(labels.view(-1).cpu().numpy())\n",
    "\n",
    "    # 计算准确率\n",
    "    accuracy = 100 * np.sum(np.array(all_preds) == np.array(all_labels)) / len(all_labels)\n",
    "    print(f'Accuracy of the model on the test images: {accuracy:.2f} %')\n",
    "    \n",
    "    # 计算精确率、召回率和F1分数\n",
    "    precision = precision_score(all_labels, all_preds, average='weighted')\n",
    "    recall = recall_score(all_labels, all_preds, average='weighted')\n",
    "    f1 = f1_score(all_labels, all_preds, average='weighted')\n",
    "    \n",
    "    print(f'Precision: {precision:.4f}')\n",
    "    print(f'Recall: {recall:.4f}')\n",
    "    print(f'F1 Score: {f1:.4f}')"
   ]
  },
  {
   "cell_type": "code",
   "execution_count": 8,
   "metadata": {},
   "outputs": [
    {
     "name": "stdout",
     "output_type": "stream",
     "text": [
      "AUC Score: 0.9800\n"
     ]
    }
   ],
   "source": [
    "from sklearn.metrics import roc_auc_score\n",
    "# 计算AUC分数\n",
    "auc_score = roc_auc_score(all_labels, all_preds)\n",
    "\n",
    "print(f'AUC Score: {auc_score:.4f}')"
   ]
  },
  {
   "cell_type": "code",
   "execution_count": 9,
   "metadata": {},
   "outputs": [
    {
     "name": "stdout",
     "output_type": "stream",
     "text": [
      "All Predictions: [1, 1, 0, 1, 1, 0, 1, 1, 1, 0, 1, 0, 0, 0, 1, 0, 0, 0, 0, 1, 0, 0, 0, 1, 1, 1, 0, 1, 0, 1, 1, 1, 0, 0, 1, 1, 0, 1, 1, 0, 1, 0, 1, 1, 1, 1, 0, 1, 0, 1, 1, 0, 1, 1, 1, 1, 0, 1, 1, 1, 1, 1, 0, 1, 0, 0, 1, 0, 1, 0, 0, 1, 0, 1, 1, 0, 1, 1, 1, 0, 0, 0, 0, 1, 1, 1, 0, 0, 1, 0, 1, 0, 1, 0, 1, 0, 1, 0, 0, 1, 1, 1, 1, 1, 0, 0, 0, 0, 1, 0, 0, 0, 1, 0, 0, 0, 0, 0, 0, 1, 1, 0, 0, 1, 0, 1, 0, 0, 1, 0, 0, 1, 0, 0, 0, 0, 0, 0, 1, 1, 1, 1, 0, 0, 1, 0, 0, 1, 1]\n"
     ]
    }
   ],
   "source": [
    "# 打印所有预测结果\n",
    "print('All Predictions:', all_preds)"
   ]
  },
  {
   "cell_type": "code",
   "execution_count": 11,
   "metadata": {},
   "outputs": [
    {
     "data": {
      "image/png": "[encoded data removed]",
      "text/plain": [
       "<Figure size 864x720 with 2 Axes>"
      ]
     },
     "metadata": {
      "needs_background": "light"
     },
     "output_type": "display_data"
    }
   ],
   "source": [
    "import matplotlib.pyplot as plt\n",
    "import seaborn as sns\n",
    "from sklearn.metrics import confusion_matrix\n",
    "\n",
    "# 基于之前的预测结果计算混淆矩阵\n",
    "cm = confusion_matrix(all_labels, all_preds)\n",
    "\n",
    "# 绘制混淆矩阵的热力图\n",
    "plt.figure(figsize=(12, 10))  # 根据需要调整图像的大小\n",
    "sns.heatmap(cm, annot=True, fmt=\"d\", cmap=\"YlGnBu\", xticklabels=range(len(np.unique(all_labels))), yticklabels=range(len(np.unique(all_labels))))\n",
    "plt.xlabel('Predicted labels')\n",
    "plt.ylabel('True labels')\n",
    "plt.title('Confusion Matrix')\n",
    "plt.show()"
   ]
  },
  {
   "cell_type": "code",
   "execution_count": 16,
   "metadata": {},
   "outputs": [
    {
     "data": {
      "image/png": "[encoded data removed]",
      "text/plain": [
       "<Figure size 720x504 with 2 Axes>"
      ]
     },
     "metadata": {
      "needs_background": "light"
     },
     "output_type": "display_data"
    }
   ],
   "source": [
    "import numpy as np\n",
    "import seaborn as sns\n",
    "import matplotlib.pyplot as plt\n",
    "import matplotlib\n",
    "\n",
    "# 配置matplotlib以支持中文显示\n",
    "matplotlib.rcParams['font.sans-serif'] = ['SimHei']  # 指定默认字体为黑体\n",
    "matplotlib.rcParams['axes.unicode_minus'] = False  # 解决保存图像时负号'-'显示为方块的问题\n",
    "\n",
    "# 使用你所提供的混淆矩阵的值\n",
    "cm = np.array([\n",
    "    [80, 1, 0, 2],\n",
    "    [0, 72, 1, 1],\n",
    "    [0, 0, 64, 1],\n",
    "    [0, 2, 0, 74]\n",
    "])\n",
    "\n",
    "# 使用seaborn的heatmap函数绘制混淆矩阵\n",
    "plt.figure(figsize=(10, 7))\n",
    "sns.heatmap(cm, annot=True, fmt=\"d\", cmap=\"YlGnBu\")\n",
    "\n",
    "# 添加轴标签和标题\n",
    "plt.ylabel('实际标签')\n",
    "plt.xlabel('预测标签')\n",
    "plt.title('混淆矩阵')\n",
    "\n",
    "# 显示图形\n",
    "plt.show()"
   ]
  },
  {
   "cell_type": "code",
   "execution_count": 18,
   "metadata": {},
   "outputs": [
    {
     "name": "stdout",
     "output_type": "stream",
     "text": [
      "Accuracy: 0.9731543624161074\n",
      "Precision: 0.9733333333333334\n",
      "Recall: 0.9737819974503552\n",
      "F1 Score: 0.973423097674755\n"
     ]
    }
   ],
   "source": [
    "from sklearn.metrics import accuracy_score, precision_score, recall_score, f1_score\n",
    "import numpy as np\n",
    "\n",
    "# Your confusion matrix\n",
    "confusion_matrix = np.array([\n",
    "    [80, 1, 0, 2],\n",
    "    [0, 72, 1, 1],\n",
    "    [0, 0, 64, 1],\n",
    "    [0, 2, 0, 74]\n",
    "])\n",
    "\n",
    "# Flatten the confusion matrix for multi-class evaluation\n",
    "y_true = []\n",
    "y_pred = []\n",
    "for i in range(len(confusion_matrix)):\n",
    "    for j in range(len(confusion_matrix[i])):\n",
    "        y_true.extend([i] * confusion_matrix[i][j])\n",
    "        y_pred.extend([j] * confusion_matrix[i][j])\n",
    "\n",
    "# Calculate metrics\n",
    "accuracy = accuracy_score(y_true, y_pred)\n",
    "precision = precision_score(y_true, y_pred, average='macro')  # Use 'macro' for unweighted mean\n",
    "recall = recall_score(y_true, y_pred, average='macro')\n",
    "f1 = f1_score(y_true, y_pred, average='macro')\n",
    "\n",
    "print(f\"Accuracy: {accuracy}\")\n",
    "print(f\"Precision: {precision}\")\n",
    "print(f\"Recall: {recall}\")\n",
    "print(f\"F1 Score: {f1}\")"
   ]
  },
  {
   "cell_type": "code",
   "execution_count": null,
   "metadata": {},
   "outputs": [],
   "source": []
  }
 ],
 "metadata": {
  "kernelspec": {
   "display_name": "Python 3",
   "language": "python",
   "name": "python3"
  },
  "language_info": {
   "codemirror_mode": {
    "name": "ipython",
    "version": 3
   },
   "file_extension": ".py",
   "mimetype": "text/x-python",
   "name": "python",
   "nbconvert_exporter": "python",
   "pygments_lexer": "ipython3",
   "version": "3.7.3"
  }
 },
 "nbformat": 4,
 "nbformat_minor": 2
}
