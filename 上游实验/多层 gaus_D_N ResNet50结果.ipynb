{
 "cells": [
  {
   "cell_type": "code",
   "execution_count": 64,
   "metadata": {},
   "outputs": [
    {
     "name": "stderr",
     "output_type": "stream",
     "text": [
      "C:\\Users\\HP\\Anaconda3\\lib\\site-packages\\torchvision\\models\\_utils.py:209: UserWarning: The parameter 'pretrained' is deprecated since 0.13 and may be removed in the future, please use 'weights' instead.\n",
      "  f\"The parameter '{pretrained_param}' is deprecated since 0.13 and may be removed in the future, \"\n",
      "C:\\Users\\HP\\Anaconda3\\lib\\site-packages\\torchvision\\models\\_utils.py:223: UserWarning: Arguments other than a weight enum or `None` for 'weights' are deprecated since 0.13 and may be removed in the future. The current behavior is equivalent to passing `weights=ResNet50_Weights.IMAGENET1K_V1`. You can also use `weights=ResNet50_Weights.DEFAULT` to get the most up-to-date weights.\n",
      "  warnings.warn(msg)\n"
     ]
    }
   ],
   "source": [
    "import torch\n",
    "import torch.nn as nn\n",
    "import torch.optim as optim\n",
    "from torch.utils.data import Dataset, DataLoader\n",
    "import pandas as pd\n",
    "import numpy as np\n",
    "from torchvision import models\n",
    "from sklearn.preprocessing import LabelEncoder\n",
    "import os\n",
    "\n",
    "# 设置随机种子以确保可重复性\n",
    "def set_seed(seed=42):\n",
    "    torch.manual_seed(seed)\n",
    "    torch.cuda.manual_seed_all(seed)\n",
    "    np.random.seed(seed)\n",
    "    torch.backends.cudnn.deterministic = True\n",
    "    torch.backends.cudnn.benchmark = False\n",
    "\n",
    "set_seed(42)\n",
    "\n",
    "# 数据集类\n",
    "class NPYDataset(Dataset):\n",
    "    def __init__(self, csv_file, root_dir):\n",
    "        try:\n",
    "            self.annotations = pd.read_csv(csv_file, encoding='utf-8')\n",
    "        except UnicodeDecodeError:\n",
    "            self.annotations = pd.read_csv(csv_file, encoding='gbk')\n",
    "        self.root_dir = root_dir\n",
    "        self.le = LabelEncoder()\n",
    "        self.annotations['labels'] = self.annotations['labels'].apply(lambda x: x.strip(\"[]'\"))\n",
    "        self.annotations['labels'] = self.le.fit_transform(self.annotations['labels'])\n",
    "\n",
    "    def __len__(self):\n",
    "        return len(self.annotations)\n",
    "\n",
    "    def __getitem__(self, index):\n",
    "        img_name = os.path.join(self.root_dir, str(self.annotations.iloc[index, -1]) + '.npy')\n",
    "        image = np.load(img_name)\n",
    "        image = torch.tensor(image, dtype=torch.float32).permute(2, 0, 1)\n",
    "        label = self.annotations.iloc[index, 2]\n",
    "        return image, label\n",
    "\n",
    "# 模型定义\n",
    "class ResNet2D(nn.Module):\n",
    "    def __init__(self, num_classes=4):  # 默认值设为4，便于理解，实际上你可以根据需要传递任何数量\n",
    "        super(ResNet2D, self).__init__()\n",
    "        # 使用ResNet50作为基础模型\n",
    "        self.resnet = models.resnet50(pretrained=True)\n",
    "        # 冻结预训练模型的参数\n",
    "        for param in self.resnet.parameters():\n",
    "            param.requires_grad = False\n",
    "\n",
    "        # 替换全连接层以适应新的分类任务\n",
    "        num_ftrs = self.resnet.fc.in_features  # 获取全连接层的输入特征数\n",
    "        self.resnet.fc = nn.Linear(num_ftrs, num_classes)  # 替换全连接层，num_classes现在是4\n",
    "\n",
    "    def forward(self, x):\n",
    "        x = self.resnet(x)\n",
    "        return x\n",
    "\n",
    "# 之后的优化器、学习率调度器和训练循环可以保持不变\n",
    "\n",
    "# 训练和评估参数\n",
    "num_epochs = 10\n",
    "batch_size = 32\n",
    "learning_rate = 0.001\n",
    "\n",
    "# 设备配置\n",
    "device = torch.device('cuda' if torch.cuda.is_available() else 'cpu')\n",
    "\n",
    "# 数据加载\n",
    "train_dataset = NPYDataset(csv_file=r'C:\\Users\\HP\\Desktop\\指南者\\项目\\眼病预测\\train.csv', root_dir=r'C:\\Users\\HP\\Desktop\\指南者\\项目\\眼病预测\\normalized_gaus_train')\n",
    "train_loader = DataLoader(dataset=train_dataset, batch_size=batch_size, shuffle=True)\n",
    "\n",
    "test_dataset = NPYDataset(csv_file=r'C:\\Users\\HP\\Desktop\\指南者\\项目\\眼病预测\\test.csv', root_dir=r'C:\\Users\\HP\\Desktop\\指南者\\项目\\眼病预测\\normalized_gaus_test')\n",
    "test_loader = DataLoader(dataset=test_dataset, batch_size=batch_size, shuffle=False)\n",
    "\n",
    "validation_dataset = NPYDataset(csv_file=r'C:\\Users\\HP\\Desktop\\指南者\\项目\\眼病预测\\validation.csv', root_dir=r'C:\\Users\\HP\\Desktop\\指南者\\项目\\眼病预测\\normalized_gaus_validation')\n",
    "validation_loader = DataLoader(dataset=validation_dataset, batch_size=batch_size, shuffle=False)\n",
    "\n",
    "# 模型初始化\n",
    "num_classes = len(np.unique(train_dataset.annotations['labels']))  # 这应该计算为4\n",
    "\n",
    "# 创建一个权重数组\n",
    "# 这里假设类别标签已经编码为0, 1\n",
    "weights = torch.tensor([1.0, 1.0, 1.0, 1.0], dtype=torch.float32).to(device)\n",
    "\n",
    "# 使用加权损失函数\n",
    "criterion = nn.CrossEntropyLoss(weight=weights)\n",
    "\n",
    "model = ResNet2D(num_classes=num_classes).to(device)\n",
    "optimizer = optim.AdamW(model.parameters(), lr=learning_rate, weight_decay=1e-3)  # 增加权重衰减\n",
    "\n",
    "# 学习率调度器\n",
    "scheduler = torch.optim.lr_scheduler.StepLR(optimizer, step_size=10, gamma=0.1)\n",
    "\n",
    "# 训练模型的代码...\n",
    "# 请根据您的具体需求添加训练循环和验证/测试循环"
   ]
  },
  {
   "cell_type": "code",
   "execution_count": 65,
   "metadata": {},
   "outputs": [],
   "source": [
    "model_path = r'C:\\Users\\HP\\Desktop\\指南者\\项目\\眼病预测\\trained_model.pth'  # 指定模型保存路径"
   ]
  },
  {
   "cell_type": "code",
   "execution_count": 66,
   "metadata": {},
   "outputs": [
    {
     "name": "stderr",
     "output_type": "stream",
     "text": [
      "C:\\Users\\HP\\Anaconda3\\lib\\site-packages\\torchvision\\models\\_utils.py:209: UserWarning: The parameter 'pretrained' is deprecated since 0.13 and may be removed in the future, please use 'weights' instead.\n",
      "  f\"The parameter '{pretrained_param}' is deprecated since 0.13 and may be removed in the future, \"\n",
      "C:\\Users\\HP\\Anaconda3\\lib\\site-packages\\torchvision\\models\\_utils.py:223: UserWarning: Arguments other than a weight enum or `None` for 'weights' are deprecated since 0.13 and may be removed in the future. The current behavior is equivalent to passing `weights=ResNet50_Weights.IMAGENET1K_V1`. You can also use `weights=ResNet50_Weights.DEFAULT` to get the most up-to-date weights.\n",
      "  warnings.warn(msg)\n"
     ]
    },
    {
     "data": {
      "text/plain": [
       "<All keys matched successfully>"
      ]
     },
     "execution_count": 66,
     "metadata": {},
     "output_type": "execute_result"
    }
   ],
   "source": [
    "# 正确的类别数，根据错误消息，应该是4\n",
    "num_classes = 4\n",
    "\n",
    "# 使用正确的类别数创建模型实例\n",
    "model = ResNet2D(num_classes=num_classes)\n",
    "\n",
    "# 现在加载模型应该不会出错，因为类别数匹配\n",
    "model.load_state_dict(torch.load(model_path, map_location=torch.device('cpu')))\n",
    "\n",
    "# 根据你的需要调用 model.train() 或 model.eval()"
   ]
  },
  {
   "cell_type": "code",
   "execution_count": 67,
   "metadata": {},
   "outputs": [
    {
     "name": "stdout",
     "output_type": "stream",
     "text": [
      "Accuracy of the model on the test images: 90.27 %\n",
      "Precision: 0.9146\n",
      "Recall: 0.9027\n",
      "F1 Score: 0.9039\n",
      "Accuracy for class 0: 0.98\n",
      "Accuracy for class 1: 0.77\n",
      "Accuracy for class 2: 0.94\n",
      "Accuracy for class 3: 0.92\n"
     ]
    }
   ],
   "source": [
    "import torch  \n",
    "import numpy as np  \n",
    "from sklearn.metrics import confusion_matrix, precision_score, recall_score, f1_score  \n",
    "  \n",
    "# 假设model, test_loader, device等都已正确定义和初始化  \n",
    "  \n",
    "model.eval()  \n",
    "with torch.no_grad():  \n",
    "    all_preds = []  \n",
    "    all_labels = []  \n",
    "    for images, labels in test_loader:  \n",
    "        images, labels = images.to(device), labels.to(device).long()  \n",
    "        outputs = model(images)  \n",
    "        _, predicted = torch.max(outputs.data, 1)  \n",
    "          \n",
    "        # 收集所有预测和标签  \n",
    "        all_preds.extend(predicted.view(-1).cpu().numpy())  \n",
    "        all_labels.extend(labels.view(-1).cpu().numpy())  \n",
    "  \n",
    "    # 计算准确率  \n",
    "    accuracy = 100 * np.sum(np.array(all_preds) == np.array(all_labels)) / len(all_labels)  \n",
    "    print(f'Accuracy of the model on the test images: {accuracy:.2f} %')  \n",
    "      \n",
    "    # 计算精确率、召回率和F1分数  \n",
    "    precision = precision_score(all_labels, all_preds, average='weighted')  \n",
    "    recall = recall_score(all_labels, all_preds, average='weighted')  \n",
    "    f1 = f1_score(all_labels, all_preds, average='weighted')  \n",
    "      \n",
    "    print(f'Precision: {precision:.4f}')  \n",
    "    print(f'Recall: {recall:.4f}')  \n",
    "    print(f'F1 Score: {f1:.4f}')  \n",
    "  \n",
    "    # 计算混淆矩阵  \n",
    "    cm = confusion_matrix(all_labels, all_preds)  \n",
    "      \n",
    "    # 计算每个类别的准确率  \n",
    "    class_accuracy = cm.diagonal() / cm.sum(axis=1)  \n",
    "      \n",
    "    # 打印每个类别的准确率  \n",
    "    for i in range(len(class_accuracy)):  \n",
    "        print(f'Accuracy for class {i}: {class_accuracy[i]:.2f}')  \n",
    "  \n",
    "# 打印所有预测结果（如果需要）  \n",
    "# print('All Predictions:', all_preds)"
   ]
  },
  {
   "cell_type": "code",
   "execution_count": 30,
   "metadata": {},
   "outputs": [
    {
     "name": "stdout",
     "output_type": "stream",
     "text": [
      "All Predictions: [3, 3, 1, 2, 2, 3, 0, 0, 3, 1, 2, 3, 3, 3, 0, 0, 3, 0, 0, 2, 2, 1, 2, 3, 3, 1, 2, 0, 2, 0, 0, 0, 0, 2, 1, 3, 0, 2, 3, 3, 1, 2, 2, 1, 0, 1, 0, 1, 2, 2, 3, 3, 3, 3, 2, 1, 3, 3, 0, 3, 0, 2, 3, 2, 2, 0, 0, 0, 3, 2, 2, 3, 1, 3, 2, 2, 2, 3, 3, 0, 0, 2, 0, 1, 0, 0, 3, 3, 1, 0, 3, 1, 3, 0, 2, 0, 3, 2, 3, 0, 2, 3, 2, 1, 2, 3, 1, 2, 3, 0, 3, 2, 3, 1, 0, 2, 3, 2, 0, 0, 3, 3, 3, 2, 0, 1, 3, 0, 0, 0, 3, 3, 2, 2, 3, 0, 1, 1, 3, 2, 1, 0, 1, 0, 0, 3, 1, 2, 3, 1, 1, 3, 1, 0, 0, 3, 0, 0, 1, 2, 3, 0, 0, 3, 0, 0, 0, 2, 2, 2, 3, 0, 1, 1, 0, 0, 2, 2, 1, 1, 2, 3, 3, 0, 0, 0, 3, 3, 1, 1, 0, 2, 3, 3, 3, 3, 3, 1, 3, 0, 1, 2, 0, 3, 3, 3, 3, 0, 2, 0, 2, 0, 3, 3, 3, 0, 1, 0, 1, 0, 3, 2, 1, 1, 3, 3, 1, 0, 2, 1, 3, 0, 3, 1, 3, 1, 2, 1, 1, 0, 3, 3, 1, 1, 1, 3, 3, 0, 2, 1, 0, 3, 0, 0, 2, 0, 1, 3, 2, 0, 0, 3, 2, 3, 3, 1, 3, 0, 1, 0, 0, 1, 3, 1, 2, 0, 1, 0, 1, 0, 0, 3, 3, 3, 3, 1, 0, 1, 3, 1, 1, 2, 0, 3, 2, 2, 2, 0]\n"
     ]
    }
   ],
   "source": [
    "# 打印所有预测结果\n",
    "print('All Predictions:', all_preds)"
   ]
  },
  {
   "cell_type": "code",
   "execution_count": 31,
   "metadata": {
    "scrolled": true
   },
   "outputs": [
    {
     "name": "stdout",
     "output_type": "stream",
     "text": [
      "Label mapping:\n",
      "C: 0\n",
      "D: 1\n",
      "M: 2\n",
      "N: 3\n"
     ]
    }
   ],
   "source": [
    "# Assuming `le` is your LabelEncoder instance that has been fitted to the labels\n",
    "print(\"Label mapping:\")\n",
    "for i, label in enumerate(train_dataset.le.classes_):\n",
    "    print(f\"{label}: {i}\")"
   ]
  },
  {
   "cell_type": "code",
   "execution_count": 32,
   "metadata": {},
   "outputs": [
    {
     "name": "stdout",
     "output_type": "stream",
     "text": [
      "Accuracy of the model on the test images: 90.27 %\n",
      "Precision: 0.9146\n",
      "Recall: 0.9027\n",
      "F1 Score: 0.9039\n",
      "Accuracy for class 0: 0.98\n",
      "Accuracy for class 1: 0.77\n",
      "Accuracy for class 2: 0.94\n",
      "Accuracy for class 3: 0.92\n"
     ]
    }
   ],
   "source": [
    "import torch  \n",
    "import numpy as np  \n",
    "from sklearn.metrics import confusion_matrix, precision_score, recall_score, f1_score  \n",
    "  \n",
    "# 假设model, test_loader, device等都已正确定义和初始化  \n",
    "  \n",
    "model.eval()  \n",
    "with torch.no_grad():  \n",
    "    all_preds = []  \n",
    "    all_labels = []  \n",
    "    for images, labels in test_loader:  \n",
    "        images, labels = images.to(device), labels.to(device).long()  \n",
    "        outputs = model(images)  \n",
    "        _, predicted = torch.max(outputs.data, 1)  \n",
    "          \n",
    "        # 收集所有预测和标签  \n",
    "        all_preds.extend(predicted.view(-1).cpu().numpy())  \n",
    "        all_labels.extend(labels.view(-1).cpu().numpy())  \n",
    "  \n",
    "    # 计算准确率  \n",
    "    accuracy = 100 * np.sum(np.array(all_preds) == np.array(all_labels)) / len(all_labels)  \n",
    "    print(f'Accuracy of the model on the test images: {accuracy:.2f} %')  \n",
    "      \n",
    "    # 计算精确率、召回率和F1分数  \n",
    "    precision = precision_score(all_labels, all_preds, average='weighted')  \n",
    "    recall = recall_score(all_labels, all_preds, average='weighted')  \n",
    "    f1 = f1_score(all_labels, all_preds, average='weighted')  \n",
    "      \n",
    "    print(f'Precision: {precision:.4f}')  \n",
    "    print(f'Recall: {recall:.4f}')  \n",
    "    print(f'F1 Score: {f1:.4f}')  \n",
    "  \n",
    "    # 计算混淆矩阵  \n",
    "    cm = confusion_matrix(all_labels, all_preds)  \n",
    "      \n",
    "    # 计算每个类别的准确率  \n",
    "    class_accuracy = cm.diagonal() / cm.sum(axis=1)  \n",
    "      \n",
    "    # 打印每个类别的准确率  \n",
    "    for i in range(len(class_accuracy)):  \n",
    "        print(f'Accuracy for class {i}: {class_accuracy[i]:.2f}')  \n",
    "  \n",
    "# 打印所有预测结果（如果需要）  \n",
    "# print('All Predictions:', all_preds)"
   ]
  },
  {
   "cell_type": "code",
   "execution_count": 68,
   "metadata": {},
   "outputs": [
    {
     "data": {
      "image/png": "[encoded data removed]",
      "text/plain": [
       "<Figure size 864x720 with 2 Axes>"
      ]
     },
     "metadata": {
      "needs_background": "light"
     },
     "output_type": "display_data"
    }
   ],
   "source": [
    "import matplotlib.pyplot as plt\n",
    "import seaborn as sns\n",
    "from sklearn.metrics import confusion_matrix\n",
    "\n",
    "# 基于之前的预测结果计算混淆矩阵\n",
    "cm = confusion_matrix(all_labels, all_preds)\n",
    "\n",
    "# 绘制混淆矩阵的热力图\n",
    "plt.figure(figsize=(12, 10))  # 根据需要调整图像的大小\n",
    "sns.heatmap(cm, annot=True, fmt=\"d\", cmap=\"YlGnBu\", xticklabels=range(len(np.unique(all_labels))), yticklabels=range(len(np.unique(all_labels))))\n",
    "plt.xlabel('Predicted labels')\n",
    "plt.ylabel('True labels')\n",
    "plt.title('Confusion Matrix')\n",
    "plt.show()"
   ]
  },
  {
   "cell_type": "code",
   "execution_count": 69,
   "metadata": {
    "scrolled": true
   },
   "outputs": [
    {
     "name": "stdout",
     "output_type": "stream",
     "text": [
      "预测错误的实例索引: [13, 24, 38, 39, 44, 57, 71, 73, 108, 136, 152, 157, 181, 193, 195, 204, 205, 216, 220, 225, 232, 234, 246, 257, 263, 264, 272, 288, 297]\n",
      "实例 13 错误预测为 3，实际标签为 2\n",
      "实例 24 错误预测为 3，实际标签为 1\n",
      "实例 38 错误预测为 3，实际标签为 1\n",
      "实例 39 错误预测为 3，实际标签为 1\n",
      "实例 44 错误预测为 0，实际标签为 3\n",
      "实例 57 错误预测为 3，实际标签为 1\n",
      "实例 71 错误预测为 3，实际标签为 1\n",
      "实例 73 错误预测为 3，实际标签为 2\n",
      "实例 108 错误预测为 3，实际标签为 0\n",
      "实例 136 错误预测为 1，实际标签为 3\n",
      "实例 152 错误预测为 1，实际标签为 3\n",
      "实例 157 错误预测为 0，实际标签为 3\n",
      "实例 181 错误预测为 3，实际标签为 2\n",
      "实例 193 错误预测为 3，实际标签为 1\n",
      "实例 195 错误预测为 3，实际标签为 1\n",
      "实例 204 错误预测为 3，实际标签为 1\n",
      "实例 205 错误预测为 3，实际标签为 1\n",
      "实例 216 错误预测为 1，实际标签为 3\n",
      "实例 220 错误预测为 3，实际标签为 1\n",
      "实例 225 错误预测为 3，实际标签为 1\n",
      "实例 232 错误预测为 3，实际标签为 1\n",
      "实例 234 错误预测为 3，实际标签为 1\n",
      "实例 246 错误预测为 3，实际标签为 0\n",
      "实例 257 错误预测为 3，实际标签为 1\n",
      "实例 263 错误预测为 3，实际标签为 2\n",
      "实例 264 错误预测为 3，实际标签为 1\n",
      "实例 272 错误预测为 3，实际标签为 1\n",
      "实例 288 错误预测为 3，实际标签为 1\n",
      "实例 297 错误预测为 0，实际标签为 3\n"
     ]
    }
   ],
   "source": [
    "# 初始化一个空列表来存储预测错误的索引\n",
    "error_indices = []\n",
    "\n",
    "# 遍历所有预测和标签，比较它们是否相等\n",
    "for idx, (pred, label) in enumerate(zip(all_preds, all_labels)):\n",
    "    if pred != label:\n",
    "        # 如果预测不等于标签，记录该实例的索引\n",
    "        error_indices.append(idx)\n",
    "\n",
    "# 输出预测错误的实例索引\n",
    "print(\"预测错误的实例索引:\", error_indices)\n",
    "\n",
    "# 如果您想查看预测错误的详细信息，可以按以下方式打印每个错误实例的预测值和真实值\n",
    "for error_index in error_indices:\n",
    "    print(f'实例 {error_index} 错误预测为 {all_preds[error_index]}，实际标签为 {all_labels[error_index]}')"
   ]
  },
  {
   "cell_type": "code",
   "execution_count": 36,
   "metadata": {
    "scrolled": true
   },
   "outputs": [
    {
     "name": "stdout",
     "output_type": "stream",
     "text": [
      "13     5324\n",
      "24     4979\n",
      "38      249\n",
      "39      443\n",
      "44       52\n",
      "57      403\n",
      "71     5148\n",
      "73      157\n",
      "108    6230\n",
      "136     475\n",
      "152    4981\n",
      "157    4961\n",
      "181    4997\n",
      "193     209\n",
      "195    5370\n",
      "204    5338\n",
      "205    4982\n",
      "216    5045\n",
      "220     242\n",
      "225      80\n",
      "232    5185\n",
      "234     491\n",
      "246    5902\n",
      "257    5421\n",
      "263    5056\n",
      "264    5337\n",
      "272    5206\n",
      "288     522\n",
      "297    5309\n",
      "Name: filename, dtype: int64\n"
     ]
    }
   ],
   "source": [
    "import pandas as pd\n",
    "\n",
    "# 给定的行号列表，已经转换为Python的索引（从0开始）\n",
    "rows = [13, 24, 38, 39, 44, 57, 71, 73, 108, 136, 152, 157, 181, 193, 195, 204, 205, 216, 220, 225, 232, 234, 246, 257, 263, 264, 272, 288, 297]\n",
    "\n",
    "# 读取CSV文件\n",
    "df = pd.read_csv(r'C:\\Users\\HP\\Desktop\\指南者\\项目\\眼病预测\\test.csv')\n",
    "\n",
    "# 根据给定的行号提取filename列的值\n",
    "selected_filenames = df.loc[rows, 'filename']\n",
    "\n",
    "# 打印结果\n",
    "print(selected_filenames)"
   ]
  },
  {
   "cell_type": "code",
   "execution_count": 70,
   "metadata": {},
   "outputs": [
    {
     "name": "stdout",
     "output_type": "stream",
     "text": [
      "CSV文件成功加载到DataFrame中。\n",
      "图像已复制到相应的测试集文件夹。\n"
     ]
    }
   ],
   "source": [
    "import os\n",
    "import shutil\n",
    "import pandas as pd\n",
    "\n",
    "# 定义CSV文件的路径\n",
    "csv_file_path = r'C:\\Users\\HP\\Desktop\\指南者\\项目\\眼病预测\\double_test.csv'\n",
    "\n",
    "# 使用Pandas读取CSV文件\n",
    "try:\n",
    "    df = pd.read_csv(csv_file_path)\n",
    "    test_df = df\n",
    "    print(\"CSV文件成功加载到DataFrame中。\")\n",
    "except FileNotFoundError:\n",
    "    print(f\"未找到文件：{csv_file_path}。请检查文件路径是否正确。\")\n",
    "except Exception as e:\n",
    "    print(f\"读取CSV文件时出错：{e}\")\n",
    "\n",
    "# 原始图像文件夹路径\n",
    "source_folder = r'C:\\Users\\HP\\Desktop\\指南者\\项目\\眼病预测\\normalized_gaus_test'\n",
    "\n",
    "# 新的测试集图像文件夹路径\n",
    "test_images_folder = r'C:\\Users\\HP\\Desktop\\指南者\\项目\\眼病预测\\normalized_double_test_images'\n",
    "\n",
    "# 创建新的文件夹（如果不存在）\n",
    "os.makedirs(test_images_folder, exist_ok=True)\n",
    "\n",
    "# 从DataFrame中提取测试集的图像文件名\n",
    "test_filenames = test_df['filename'].tolist()\n",
    "\n",
    "# 复制测试集图像到新的测试集文件夹\n",
    "for filename in test_filenames:\n",
    "    # 确保文件名是字符串类型，添加.npy扩展名（如果需要）\n",
    "    filename_str = str(filename) + '.npy'  # 假设你需要添加.npy扩展名\n",
    "    source_path = os.path.join(source_folder, filename_str)\n",
    "    destination_path = os.path.join(test_images_folder, filename_str)\n",
    "    # 检查源文件是否存在，再复制\n",
    "    if os.path.exists(source_path):\n",
    "        shutil.copy(source_path, destination_path)\n",
    "    else:\n",
    "        print(f\"文件不存在：{source_path}\")\n",
    "\n",
    "print(\"图像已复制到相应的测试集文件夹。\")"
   ]
  },
  {
   "cell_type": "code",
   "execution_count": 71,
   "metadata": {},
   "outputs": [
    {
     "name": "stderr",
     "output_type": "stream",
     "text": [
      "C:\\Users\\HP\\Anaconda3\\lib\\site-packages\\torchvision\\models\\_utils.py:209: UserWarning: The parameter 'pretrained' is deprecated since 0.13 and may be removed in the future, please use 'weights' instead.\n",
      "  f\"The parameter '{pretrained_param}' is deprecated since 0.13 and may be removed in the future, \"\n",
      "C:\\Users\\HP\\Anaconda3\\lib\\site-packages\\torchvision\\models\\_utils.py:223: UserWarning: Arguments other than a weight enum or `None` for 'weights' are deprecated since 0.13 and may be removed in the future. The current behavior is equivalent to passing `weights=ResNet50_Weights.IMAGENET1K_V1`. You can also use `weights=ResNet50_Weights.DEFAULT` to get the most up-to-date weights.\n",
      "  warnings.warn(msg)\n"
     ]
    }
   ],
   "source": [
    "import torch\n",
    "import torch.nn as nn\n",
    "import torch.optim as optim\n",
    "from torch.utils.data import Dataset, DataLoader\n",
    "import pandas as pd\n",
    "import numpy as np\n",
    "from torchvision import models\n",
    "from sklearn.preprocessing import LabelEncoder\n",
    "import os\n",
    "\n",
    "# 设置随机种子以确保可重复性\n",
    "def set_seed(seed=42):\n",
    "    torch.manual_seed(seed)\n",
    "    torch.cuda.manual_seed_all(seed)\n",
    "    np.random.seed(seed)\n",
    "    torch.backends.cudnn.deterministic = True\n",
    "    torch.backends.cudnn.benchmark = False\n",
    "\n",
    "set_seed(42)\n",
    "\n",
    "# 数据集类\n",
    "class NPYDataset(Dataset):\n",
    "    def __init__(self, csv_file, root_dir):\n",
    "        try:\n",
    "            self.annotations = pd.read_csv(csv_file, encoding='utf-8')\n",
    "        except UnicodeDecodeError:\n",
    "            self.annotations = pd.read_csv(csv_file, encoding='gbk')\n",
    "        self.root_dir = root_dir\n",
    "        self.le = LabelEncoder()\n",
    "        self.annotations['labels'] = self.annotations['labels'].apply(lambda x: x.strip(\"[]'\"))\n",
    "        self.annotations['labels'] = self.le.fit_transform(self.annotations['labels'])\n",
    "\n",
    "    def __len__(self):\n",
    "        return len(self.annotations)\n",
    "\n",
    "    def __getitem__(self, index):\n",
    "        img_name = os.path.join(self.root_dir, str(self.annotations.iloc[index, -1]) + '.npy')\n",
    "        image = np.load(img_name)\n",
    "        image = torch.tensor(image, dtype=torch.float32).permute(2, 0, 1)\n",
    "        label = self.annotations.iloc[index, 2]\n",
    "        return image, label\n",
    "\n",
    "# 模型定义\n",
    "class ResNet2D(nn.Module):\n",
    "    def __init__(self, num_classes):\n",
    "        super(ResNet2D, self).__init__()\n",
    "        # 使用ResNet50作为基础模型\n",
    "        self.resnet = models.resnet50(pretrained=True)\n",
    "        # 冻结预训练模型的参数\n",
    "        for param in self.resnet.parameters():\n",
    "            param.requires_grad = False\n",
    "\n",
    "        # 替换全连接层以适应新的分类任务\n",
    "        num_ftrs = self.resnet.fc.in_features  # 获取全连接层的输入特征数\n",
    "        self.resnet.fc = nn.Linear(num_ftrs, num_classes)  # 替换全连接层\n",
    "\n",
    "    def forward(self, x):\n",
    "        x = self.resnet(x)\n",
    "        return x\n",
    "\n",
    "# 之后的优化器、学习率调度器和训练循环可以保持不变\n",
    "\n",
    "# 训练和评估参数\n",
    "num_epochs = 10\n",
    "batch_size = 32\n",
    "learning_rate = 0.001\n",
    "\n",
    "# 设备配置\n",
    "device = torch.device('cuda' if torch.cuda.is_available() else 'cpu')\n",
    "\n",
    "# 数据加载\n",
    "train_dataset = NPYDataset(csv_file=r'C:\\Users\\HP\\Desktop\\指南者\\项目\\眼病预测\\train.csv', root_dir=r'C:\\Users\\HP\\Desktop\\指南者\\项目\\眼病预测\\normalized_gaus_train')\n",
    "train_loader = DataLoader(dataset=train_dataset, batch_size=batch_size, shuffle=True)\n",
    "\n",
    "test_dataset = NPYDataset(csv_file=r'C:\\Users\\HP\\Desktop\\指南者\\项目\\眼病预测\\double_test.csv', root_dir=r'C:\\Users\\HP\\Desktop\\指南者\\项目\\眼病预测\\normalized_double_test_images')\n",
    "test_loader = DataLoader(dataset=test_dataset, batch_size=batch_size, shuffle=False)\n",
    "\n",
    "validation_dataset = NPYDataset(csv_file=r'C:\\Users\\HP\\Desktop\\指南者\\项目\\眼病预测\\validation.csv', root_dir=r'C:\\Users\\HP\\Desktop\\指南者\\项目\\眼病预测\\normalized_gaus_validation')\n",
    "validation_loader = DataLoader(dataset=validation_dataset, batch_size=batch_size, shuffle=False)\n",
    "\n",
    "# 模型初始化\n",
    "num_classes = len(np.unique(train_dataset.annotations['labels']))\n",
    "\n",
    "# 创建一个权重数组\n",
    "# 这里假设类别标签已经编码为0, 1\n",
    "weights = torch.tensor([1.0, 1.0], dtype=torch.float32).to(device)\n",
    "\n",
    "# 使用加权损失函数\n",
    "criterion = nn.CrossEntropyLoss(weight=weights)\n",
    "\n",
    "model = ResNet2D(num_classes=num_classes).to(device)\n",
    "optimizer = optim.AdamW(model.parameters(), lr=learning_rate, weight_decay=1e-3)  # 增加权重衰减\n",
    "\n",
    "# 学习率调度器\n",
    "scheduler = torch.optim.lr_scheduler.StepLR(optimizer, step_size=10, gamma=0.1)\n",
    "\n",
    "# 训练模型的代码...\n",
    "# 请根据您的具体需求添加训练循环和验证/测试循环"
   ]
  },
  {
   "cell_type": "code",
   "execution_count": 72,
   "metadata": {},
   "outputs": [],
   "source": [
    "model_path = r'C:\\Users\\HP\\Desktop\\指南者\\项目\\眼病预测\\gaus_D_N classification\\trained_model.pth'  # 指定模型保存路径"
   ]
  },
  {
   "cell_type": "code",
   "execution_count": 73,
   "metadata": {},
   "outputs": [
    {
     "name": "stderr",
     "output_type": "stream",
     "text": [
      "C:\\Users\\HP\\Anaconda3\\lib\\site-packages\\torchvision\\models\\_utils.py:209: UserWarning: The parameter 'pretrained' is deprecated since 0.13 and may be removed in the future, please use 'weights' instead.\n",
      "  f\"The parameter '{pretrained_param}' is deprecated since 0.13 and may be removed in the future, \"\n",
      "C:\\Users\\HP\\Anaconda3\\lib\\site-packages\\torchvision\\models\\_utils.py:223: UserWarning: Arguments other than a weight enum or `None` for 'weights' are deprecated since 0.13 and may be removed in the future. The current behavior is equivalent to passing `weights=ResNet50_Weights.IMAGENET1K_V1`. You can also use `weights=ResNet50_Weights.DEFAULT` to get the most up-to-date weights.\n",
      "  warnings.warn(msg)\n"
     ]
    },
    {
     "data": {
      "text/plain": [
       "<All keys matched successfully>"
      ]
     },
     "execution_count": 73,
     "metadata": {},
     "output_type": "execute_result"
    }
   ],
   "source": [
    "# 创建与之前相同的模型实例\n",
    "# 请将num_classes替换为您实际使用的类别数\n",
    "model = ResNet2D(num_classes=2)\n",
    "\n",
    "# 加载保存的模型状态字典，确保映射到CPU\n",
    "model.load_state_dict(torch.load(model_path, map_location=torch.device('cpu')))\n",
    "\n",
    "# 如果你要继续在训练模式下使用模型，别忘了调用 model.train()\n",
    "# 如果是用于评估或预测，调用 model.eval()"
   ]
  },
  {
   "cell_type": "code",
   "execution_count": 74,
   "metadata": {},
   "outputs": [
    {
     "name": "stdout",
     "output_type": "stream",
     "text": [
      "Accuracy of the model on the test images: 97.96 %\n",
      "Precision: 0.9797\n",
      "Recall: 0.9796\n",
      "F1 Score: 0.9796\n"
     ]
    }
   ],
   "source": [
    "from sklearn.metrics import precision_score, recall_score, f1_score\n",
    "model.eval()\n",
    "with torch.no_grad():\n",
    "    all_preds = []\n",
    "    all_labels = []\n",
    "    for images, labels in test_loader:\n",
    "        images, labels = images.to(device), labels.to(device).long()\n",
    "        outputs = model(images)\n",
    "        _, predicted = torch.max(outputs.data, 1)\n",
    "        \n",
    "        # 收集所有预测和标签\n",
    "        all_preds.extend(predicted.view(-1).cpu().numpy())\n",
    "        all_labels.extend(labels.view(-1).cpu().numpy())\n",
    "\n",
    "    # 计算准确率\n",
    "    accuracy = 100 * np.sum(np.array(all_preds) == np.array(all_labels)) / len(all_labels)\n",
    "    print(f'Accuracy of the model on the test images: {accuracy:.2f} %')\n",
    "    \n",
    "    # 计算精确率、召回率和F1分数\n",
    "    precision = precision_score(all_labels, all_preds, average='weighted')\n",
    "    recall = recall_score(all_labels, all_preds, average='weighted')\n",
    "    f1 = f1_score(all_labels, all_preds, average='weighted')\n",
    "    \n",
    "    print(f'Precision: {precision:.4f}')\n",
    "    print(f'Recall: {recall:.4f}')\n",
    "    print(f'F1 Score: {f1:.4f}')"
   ]
  },
  {
   "cell_type": "code",
   "execution_count": 75,
   "metadata": {},
   "outputs": [
    {
     "name": "stdout",
     "output_type": "stream",
     "text": [
      "AUC Score: 0.9795\n"
     ]
    }
   ],
   "source": [
    "from sklearn.metrics import roc_auc_score\n",
    "# 计算AUC分数\n",
    "auc_score = roc_auc_score(all_labels, all_preds)\n",
    "\n",
    "print(f'AUC Score: {auc_score:.4f}')"
   ]
  },
  {
   "cell_type": "code",
   "execution_count": 76,
   "metadata": {},
   "outputs": [
    {
     "name": "stdout",
     "output_type": "stream",
     "text": [
      "All Predictions: [1, 1, 0, 1, 1, 0, 1, 1, 1, 0, 1, 0, 0, 0, 1, 0, 0, 0, 0, 0, 0, 0, 1, 1, 1, 0, 1, 0, 1, 1, 1, 0, 0, 1, 1, 0, 1, 1, 0, 1, 0, 1, 1, 1, 1, 0, 1, 0, 1, 1, 0, 1, 1, 1, 1, 0, 1, 1, 1, 1, 1, 0, 1, 0, 0, 1, 0, 1, 0, 0, 1, 0, 1, 0, 1, 1, 1, 0, 0, 0, 0, 1, 1, 1, 0, 0, 1, 0, 1, 0, 1, 0, 1, 0, 1, 0, 0, 1, 1, 1, 1, 1, 0, 0, 0, 0, 1, 0, 0, 0, 1, 0, 0, 0, 0, 0, 0, 1, 1, 0, 0, 0, 1, 0, 1, 0, 0, 1, 0, 0, 1, 0, 0, 0, 0, 0, 0, 1, 1, 1, 1, 0, 0, 1, 0, 0, 1]\n"
     ]
    }
   ],
   "source": [
    "# 打印所有预测结果\n",
    "print('All Predictions:', all_preds)"
   ]
  },
  {
   "cell_type": "code",
   "execution_count": 78,
   "metadata": {
    "scrolled": false
   },
   "outputs": [
    {
     "data": {
      "image/png": "[encoded data removed]",
      "text/plain": [
       "<Figure size 864x720 with 2 Axes>"
      ]
     },
     "metadata": {
      "needs_background": "light"
     },
     "output_type": "display_data"
    }
   ],
   "source": [
    "import matplotlib.pyplot as plt\n",
    "import seaborn as sns\n",
    "from sklearn.metrics import confusion_matrix\n",
    "\n",
    "# 基于之前的预测结果计算混淆矩阵\n",
    "cm = confusion_matrix(all_labels, all_preds)\n",
    "\n",
    "# 绘制混淆矩阵的热力图\n",
    "plt.figure(figsize=(12, 10))  # 根据需要调整图像的大小\n",
    "sns.heatmap(cm, annot=True, fmt=\"d\", cmap=\"YlGnBu\", xticklabels=range(len(np.unique(all_labels))), yticklabels=range(len(np.unique(all_labels))))\n",
    "plt.xlabel('Predicted labels')\n",
    "plt.ylabel('True labels')\n",
    "plt.title('Confusion Matrix')\n",
    "plt.show()"
   ]
  },
  {
   "cell_type": "code",
   "execution_count": 79,
   "metadata": {},
   "outputs": [
    {
     "name": "stdout",
     "output_type": "stream",
     "text": [
      "混淆矩阵:\n",
      "[[81  0  0  2]\n",
      " [ 0 73  0  1]\n",
      " [ 0  0 61  4]\n",
      " [ 3  2  0 71]]\n"
     ]
    }
   ],
   "source": [
    "from sklearn.metrics import confusion_matrix\n",
    "import numpy as np\n",
    "\n",
    "# 假设 all_preds 和 all_labels 已经被定义\n",
    "# 例如:\n",
    "all_preds = [0]*81 + [3]*2 + [1]*73 + [3]*1 + [2]*61 + [3]*4 + [0]*3 + [1]*2 + [3]*71\n",
    "all_labels = [0]*83 + [1]*74 + [2]*65 + [3]*76\n",
    "\n",
    "# 生成混淆矩阵\n",
    "cm = confusion_matrix(all_labels, all_preds)\n",
    "\n",
    "# 打印混淆矩阵\n",
    "print(\"混淆矩阵:\")\n",
    "print(cm)"
   ]
  },
  {
   "cell_type": "code",
   "execution_count": 81,
   "metadata": {},
   "outputs": [
    {
     "data": {
      "image/png": "[encoded data removed]",
      "text/plain": [
       "<Figure size 720x504 with 2 Axes>"
      ]
     },
     "metadata": {
      "needs_background": "light"
     },
     "output_type": "display_data"
    }
   ],
   "source": [
    "import seaborn as sns\n",
    "import matplotlib.pyplot as plt\n",
    "from sklearn.metrics import confusion_matrix\n",
    "import numpy as np\n",
    "import matplotlib\n",
    "\n",
    "# 配置matplotlib支持中文显示\n",
    "matplotlib.rcParams['font.sans-serif'] = ['SimHei']  # 指定默认字体为黑体\n",
    "matplotlib.rcParams['axes.unicode_minus'] = False  # 解决保存图像时负号'-'显示为方块的问题\n",
    "\n",
    "# 使用混淆矩阵的值作为示例\n",
    "cm = np.array([\n",
    "    [81, 0, 0, 2],\n",
    "    [0, 73, 0, 1],\n",
    "    [0, 0, 61, 4],\n",
    "    [3, 2, 0, 71]\n",
    "])\n",
    "\n",
    "# 使用seaborn的heatmap函数绘制混淆矩阵\n",
    "plt.figure(figsize=(10, 7))\n",
    "sns.heatmap(cm, annot=True, fmt=\"d\", cmap=\"YlGnBu\")\n",
    "\n",
    "# 添加轴标签和标题（现在可以使用中文了）\n",
    "plt.ylabel('实际标签')\n",
    "plt.xlabel('预测标签')\n",
    "plt.title('混淆矩阵')\n",
    "\n",
    "# 显示图形\n",
    "plt.show()"
   ]
  },
  {
   "cell_type": "code",
   "execution_count": 82,
   "metadata": {},
   "outputs": [
    {
     "name": "stdout",
     "output_type": "stream",
     "text": [
      "准确率: 0.9597\n",
      "精确率: 0.9620\n",
      "召回率: 0.9588\n",
      "F1分数: 0.9601\n"
     ]
    }
   ],
   "source": [
    "from sklearn.metrics import accuracy_score, precision_score, recall_score, f1_score\n",
    "\n",
    "# 假设 all_labels 和 all_preds 是你的真实标签和预测标签列表\n",
    "# 例如:\n",
    "all_labels = [0]*83 + [1]*74 + [2]*65 + [3]*76\n",
    "all_preds = [0]*81 + [3]*2 + [1]*73 + [3]*1 + [2]*61 + [3]*4 + [0]*3 + [1]*2 + [3]*71\n",
    "\n",
    "# 计算准确率\n",
    "accuracy = accuracy_score(all_labels, all_preds)\n",
    "print(f'准确率: {accuracy:.4f}')\n",
    "\n",
    "# 计算精确率\n",
    "precision = precision_score(all_labels, all_preds, average='macro')\n",
    "print(f'精确率: {precision:.4f}')\n",
    "\n",
    "# 计算召回率\n",
    "recall = recall_score(all_labels, all_preds, average='macro')\n",
    "print(f'召回率: {recall:.4f}')\n",
    "\n",
    "# 计算F1分数\n",
    "f1 = f1_score(all_labels, all_preds, average='macro')\n",
    "print(f'F1分数: {f1:.4f}')"
   ]
  },
  {
   "cell_type": "code",
   "execution_count": null,
   "metadata": {},
   "outputs": [],
   "source": []
  }
 ],
 "metadata": {
  "kernelspec": {
   "display_name": "Python 3",
   "language": "python",
   "name": "python3"
  },
  "language_info": {
   "codemirror_mode": {
    "name": "ipython",
    "version": 3
   },
   "file_extension": ".py",
   "mimetype": "text/x-python",
   "name": "python",
   "nbconvert_exporter": "python",
   "pygments_lexer": "ipython3",
   "version": "3.7.3"
  }
 },
 "nbformat": 4,
 "nbformat_minor": 2
}
