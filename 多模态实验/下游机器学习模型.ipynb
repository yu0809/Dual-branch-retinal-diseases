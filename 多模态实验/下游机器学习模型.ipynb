{
 "cells": [
  {
   "cell_type": "markdown",
   "metadata": {},
   "source": [
    "## SVM"
   ]
  },
  {
   "cell_type": "code",
   "execution_count": null,
   "metadata": {},
   "outputs": [],
   "source": [
    "from sklearn.svm import SVC\n",
    "from sklearn.metrics import accuracy_score\n",
    "\n",
    "# 提取特征\n",
    "train_features, train_labels = extract_features(train_loader, model, device)\n",
    "validation_features, validation_labels = extract_features(validation_loader, model, device)\n",
    "test_features, test_labels = extract_features(test_loader, model, device)\n",
    "\n",
    "# 训练 SVM\n",
    "svm_clf = SVC(kernel='linear', C=1, probability=True)  # 设置 probability=True 以输出概率\n",
    "svm_clf.fit(train_features, train_labels)\n",
    "\n",
    "# 验证 SVM\n",
    "validation_predictions_svm = svm_clf.predict(validation_features)\n",
    "validation_accuracy_svm = accuracy_score(validation_labels, validation_predictions_svm)\n",
    "print(f'SVM 验证准确率: {validation_accuracy_svm:.4f}')\n",
    "\n",
    "# 测试 SVM\n",
    "test_predictions_svm = svm_clf.predict(test_features)\n",
    "test_accuracy_svm = accuracy_score(test_labels, test_predictions_svm)\n",
    "print(f'SVM 测试准确率: {test_accuracy_svm:.4f}')"
   ]
  },
  {
   "cell_type": "markdown",
   "metadata": {},
   "source": [
    "## MLP"
   ]
  },
  {
   "cell_type": "code",
   "execution_count": null,
   "metadata": {},
   "outputs": [],
   "source": [
    "from sklearn.neural_network import MLPClassifier\n",
    "\n",
    "# 训练 MLP\n",
    "mlp_clf = MLPClassifier(hidden_layer_sizes=(128, 64), max_iter=500, random_state=42)\n",
    "mlp_clf.fit(train_features, train_labels)\n",
    "\n",
    "# 验证 MLP\n",
    "validation_predictions_mlp = mlp_clf.predict(validation_features)\n",
    "validation_accuracy_mlp = accuracy_score(validation_labels, validation_predictions_mlp)\n",
    "print(f'MLP 验证准确率: {validation_accuracy_mlp:.4f}')\n",
    "\n",
    "# 测试 MLP\n",
    "test_predictions_mlp = mlp_clf.predict(test_features)\n",
    "test_accuracy_mlp = accuracy_score(test_labels, test_predictions_mlp)\n",
    "print(f'MLP 测试准确率: {test_accuracy_mlp:.4f}')"
   ]
  },
  {
   "cell_type": "markdown",
   "metadata": {},
   "source": [
    "## XGB"
   ]
  },
  {
   "cell_type": "code",
   "execution_count": null,
   "metadata": {},
   "outputs": [],
   "source": [
    "import xgboost as xgb\n",
    "\n",
    "# 转换数据为 DMatrix 格式\n",
    "dtrain = xgb.DMatrix(train_features, label=train_labels)\n",
    "dvalid = xgb.DMatrix(validation_features, label=validation_labels)\n",
    "dtest = xgb.DMatrix(test_features, label=test_labels)\n",
    "\n",
    "# 设置参数\n",
    "params = {\n",
    "    'objective': 'multi:softprob',  # 用于多分类\n",
    "    'num_class': num_classes,\n",
    "    'eval_metric': 'mlogloss',\n",
    "    'max_depth': 6,\n",
    "    'eta': 0.1,\n",
    "    'seed': 42\n",
    "}\n",
    "\n",
    "# 训练 XGBoost\n",
    "xgb_clf = xgb.train(params, dtrain, num_boost_round=100, evals=[(dvalid, 'validation')])\n",
    "\n",
    "# 验证 XGBoost\n",
    "validation_predictions_xgb = xgb_clf.predict(dvalid)\n",
    "validation_accuracy_xgb = accuracy_score(validation_labels, np.argmax(validation_predictions_xgb, axis=1))\n",
    "print(f'XGBoost 验证准确率: {validation_accuracy_xgb:.4f}')\n",
    "\n",
    "# 测试 XGBoost\n",
    "test_predictions_xgb = xgb_clf.predict(dtest)\n",
    "test_accuracy_xgb = accuracy_score(test_labels, np.argmax(test_predictions_xgb, axis=1))\n",
    "print(f'XGBoost 测试准确率: {test_accuracy_xgb:.4f}')"
   ]
  },
  {
   "cell_type": "markdown",
   "metadata": {},
   "source": [
    "## Soft Voting"
   ]
  },
  {
   "cell_type": "code",
   "execution_count": null,
   "metadata": {},
   "outputs": [],
   "source": [
    "from sklearn.ensemble import VotingClassifier\n",
    "\n",
    "# 创建 VotingClassifier\n",
    "voting_clf = VotingClassifier(\n",
    "    estimators=[\n",
    "        ('svm', svm_clf),\n",
    "        ('mlp', mlp_clf),\n",
    "        ('xgb', xgb.XGBClassifier(objective='multi:softprob', n_estimators=100, max_depth=6, learning_rate=0.1))\n",
    "    ],\n",
    "    voting='soft',  # 使用软投票\n",
    "    weights=[1, 1, 1]  # 根据需要调整权重\n",
    ")\n",
    "\n",
    "# 训练 VotingClassifier\n",
    "voting_clf.fit(train_features, train_labels)\n",
    "\n",
    "# 在测试集上进行预测\n",
    "test_predictions_voting = voting_clf.predict(test_features)\n",
    "\n",
    "# 计算最终准确率\n",
    "voting_accuracy = accuracy_score(test_labels, test_predictions_voting)\n",
    "print(f'Voting Classifier 测试准确率: {voting_accuracy:.4f}')"
   ]
  }
 ],
 "metadata": {
  "kernelspec": {
   "display_name": "Python 3",
   "language": "python",
   "name": "python3"
  },
  "language_info": {
   "codemirror_mode": {
    "name": "ipython",
    "version": 3
   },
   "file_extension": ".py",
   "mimetype": "text/x-python",
   "name": "python",
   "nbconvert_exporter": "python",
   "pygments_lexer": "ipython3",
   "version": "3.7.3"
  }
 },
 "nbformat": 4,
 "nbformat_minor": 2
}
