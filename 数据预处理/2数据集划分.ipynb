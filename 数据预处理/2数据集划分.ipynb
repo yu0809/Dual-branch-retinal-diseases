{
 "cells": [
  {
   "cell_type": "code",
   "execution_count": 18,
   "metadata": {},
   "outputs": [
    {
     "name": "stdout",
     "output_type": "stream",
     "text": [
      "Train, validation, and test sets saved to: C:\\Users\\HP\\Desktop\\指南者\\项目\\眼病预测\\train.csv C:\\Users\\HP\\Desktop\\指南者\\项目\\眼病预测\\validation.csv and C:\\Users\\HP\\Desktop\\指南者\\项目\\眼病预测\\test.csv\n",
      "Training set gender ratio:\n",
      " Female    54.827089\n",
      "Male      45.172911\n",
      "Name: Patient Sex, dtype: float64\n",
      "\n",
      "Validation set gender ratio:\n",
      " Female    54.697987\n",
      "Male      45.302013\n",
      "Name: Patient Sex, dtype: float64\n",
      "\n",
      "Test set gender ratio:\n",
      " Female    55.033557\n",
      "Male      44.966443\n",
      "Name: Patient Sex, dtype: float64\n",
      "\n",
      "Training set age statistics:\n",
      " count    1388.000000\n",
      "mean       59.477666\n",
      "std        14.549627\n",
      "min         1.000000\n",
      "25%        54.000000\n",
      "50%        60.500000\n",
      "75%        69.000000\n",
      "max        91.000000\n",
      "Name: Patient Age, dtype: float64\n",
      "\n",
      "Validation set age statistics:\n",
      " count    298.000000\n",
      "mean      60.610738\n",
      "std       13.127046\n",
      "min        1.000000\n",
      "25%       54.000000\n",
      "50%       62.000000\n",
      "75%       69.000000\n",
      "max       87.000000\n",
      "Name: Patient Age, dtype: float64\n",
      "\n",
      "Test set age statistics:\n",
      " count    298.000000\n",
      "mean      59.607383\n",
      "std       14.790690\n",
      "min        1.000000\n",
      "25%       54.000000\n",
      "50%       61.000000\n",
      "75%       68.750000\n",
      "max       89.000000\n",
      "Name: Patient Age, dtype: float64\n"
     ]
    }
   ],
   "source": [
    "import pandas as pd  \n",
    "from sklearn.model_selection import train_test_split  \n",
    "import matplotlib.pyplot as plt  \n",
    "  \n",
    "# 加载数据  \n",
    "final_data_path = r'C:\\Users\\HP\\Desktop\\指南者\\项目\\眼病预测\\final_data.csv'  # 请根据实际情况替换路径  \n",
    "df_reloaded = pd.read_csv(final_data_path)  \n",
    "  \n",
    "# 首先，将数据集划分为训练集和临时集（包含验证集和测试集），比例大致为7:3  \n",
    "train_df_temp, temp_df = train_test_split(  \n",
    "    df_reloaded,   \n",
    "    test_size=0.3,  # 30%的数据作为临时集（之后将再划分为验证集和测试集）  \n",
    "    stratify=df_reloaded['Patient Sex'],   \n",
    "    random_state=42  \n",
    ")  \n",
    "  \n",
    "# 然后，将临时集划分为验证集和测试集，比例大致为1.5:1.5（即1:1）  \n",
    "validation_df, test_df = train_test_split(  \n",
    "    temp_df,  \n",
    "    test_size=0.5,  # 将临时集等分为验证集和测试集  \n",
    "    stratify=temp_df['Patient Sex'],   \n",
    "    random_state=42  \n",
    ")  \n",
    "  \n",
    "# 为了确保比例正确，可以调整上面的test_size参数，但上面的代码应该已经很接近7:1.5:1.5的比例了  \n",
    "  \n",
    "  # 保存三个集合到文件  \n",
    "train_path = r'C:\\Users\\HP\\Desktop\\指南者\\项目\\眼病预测\\train.csv'  \n",
    "validation_path = r'C:\\Users\\HP\\Desktop\\指南者\\项目\\眼病预测\\validation.csv'  \n",
    "test_path = r'C:\\Users\\HP\\Desktop\\指南者\\项目\\眼病预测\\test.csv'  \n",
    "  \n",
    "train_df_temp.to_csv(train_path, index=False)  \n",
    "validation_df.to_csv(validation_path, index=False)  \n",
    "test_df.to_csv(test_path, index=False)  \n",
    "  \n",
    "print(\"Train, validation, and test sets saved to:\", train_path, validation_path, \"and\", test_path)  \n",
    "  \n",
    "# 检查三个集合中的性别比例和年龄统计信息  \n",
    "train_gender_ratio = train_df_temp['Patient Sex'].value_counts(normalize=True) * 100  \n",
    "validation_gender_ratio = validation_df['Patient Sex'].value_counts(normalize=True) * 100  \n",
    "test_gender_ratio = test_df['Patient Sex'].value_counts(normalize=True) * 100  \n",
    "  \n",
    "train_age_stats = train_df_temp['Patient Age'].describe()  \n",
    "validation_age_stats = validation_df['Patient Age'].describe()  \n",
    "test_age_stats = test_df['Patient Age'].describe()  \n",
    "  \n",
    "# 打印结果以进行验证  \n",
    "print(\"Training set gender ratio:\\n\", train_gender_ratio)  \n",
    "print(\"\\nValidation set gender ratio:\\n\", validation_gender_ratio)  \n",
    "print(\"\\nTest set gender ratio:\\n\", test_gender_ratio)  \n",
    "print(\"\\nTraining set age statistics:\\n\", train_age_stats)  \n",
    "print(\"\\nValidation set age statistics:\\n\", validation_age_stats)  \n",
    "print(\"\\nTest set age statistics:\\n\", test_age_stats)"
   ]
  },
  {
   "cell_type": "code",
   "execution_count": 19,
   "metadata": {},
   "outputs": [
    {
     "data": {
      "image/png": "[encoded data removed]",
      "text/plain": [
       "<Figure size 864x432 with 1 Axes>"
      ]
     },
     "metadata": {
      "needs_background": "light"
     },
     "output_type": "display_data"
    }
   ],
   "source": [
    "# （可选）绘制三个集合的年龄分布直方图  \n",
    "plt.figure(figsize=(12, 6))  \n",
    "plt.hist(train_df_temp['Patient Age'], bins=20, alpha=0.5, label='Training Set')  \n",
    "plt.hist(validation_df['Patient Age'], bins=20, alpha=0.5, label='Validation Set')  \n",
    "plt.hist(test_df['Patient Age'], bins=20, alpha=0.5, label='Test Set')  \n",
    "plt.title('Age Distribution in Training, Validation, and Test Sets')  \n",
    "plt.xlabel('Age')  \n",
    "plt.ylabel('Frequency')  \n",
    "plt.legend()  \n",
    "plt.show()  "
   ]
  },
  {
   "cell_type": "code",
   "execution_count": 20,
   "metadata": {},
   "outputs": [
    {
     "name": "stdout",
     "output_type": "stream",
     "text": [
      "C    365\n",
      "D    351\n",
      "N    345\n",
      "M    327\n",
      "Name: labels, dtype: int64\n"
     ]
    }
   ],
   "source": [
    "import pandas as pd  \n",
    "  \n",
    "# 读取CSV文件  \n",
    "file_path = r'C:\\Users\\HP\\Desktop\\指南者\\项目\\眼病预测\\train.csv'  # 替换为你的CSV文件路径  \n",
    "df = pd.read_csv(file_path)  \n",
    "  \n",
    "# 如果labels列的值是列表的字符串表示（例如：\"['C']\"），则需要先将它们转换为单个标签字符串  \n",
    "# 假设labels列的值是类似\"['C']\"这样的格式，我们需要去掉方括号和引号  \n",
    "import ast  \n",
    "  \n",
    "def clean_label(label):  \n",
    "    # 使用ast.literal_eval将字符串表示的列表转换回列表  \n",
    "    label_list = ast.literal_eval(label)  \n",
    "    # 假设列表只有一个元素，我们取第一个元素作为标签  \n",
    "    return label_list[0] if label_list else None  \n",
    "  \n",
    "# 应用clean_label函数到labels列  \n",
    "df['labels'] = df['labels'].apply(clean_label)  \n",
    "  \n",
    "# 现在统计labels列中各个值的出现次数  \n",
    "label_counts = df['labels'].value_counts()  \n",
    "  \n",
    "# 打印结果  \n",
    "print(label_counts)"
   ]
  },
  {
   "cell_type": "code",
   "execution_count": 21,
   "metadata": {},
   "outputs": [
    {
     "name": "stdout",
     "output_type": "stream",
     "text": [
      "C    83\n",
      "N    76\n",
      "D    74\n",
      "M    65\n",
      "Name: labels, dtype: int64\n"
     ]
    }
   ],
   "source": [
    "import pandas as pd  \n",
    "  \n",
    "# 读取CSV文件  \n",
    "file_path = r'C:\\Users\\HP\\Desktop\\指南者\\项目\\眼病预测\\test.csv'  # 替换为你的CSV文件路径  \n",
    "df = pd.read_csv(file_path)  \n",
    "  \n",
    "# 如果labels列的值是列表的字符串表示（例如：\"['C']\"），则需要先将它们转换为单个标签字符串  \n",
    "# 假设labels列的值是类似\"['C']\"这样的格式，我们需要去掉方括号和引号  \n",
    "import ast  \n",
    "  \n",
    "def clean_label(label):  \n",
    "    # 使用ast.literal_eval将字符串表示的列表转换回列表  \n",
    "    label_list = ast.literal_eval(label)  \n",
    "    # 假设列表只有一个元素，我们取第一个元素作为标签  \n",
    "    return label_list[0] if label_list else None  \n",
    "  \n",
    "# 应用clean_label函数到labels列  \n",
    "df['labels'] = df['labels'].apply(clean_label)  \n",
    "  \n",
    "# 现在统计labels列中各个值的出现次数  \n",
    "label_counts = df['labels'].value_counts()  \n",
    "  \n",
    "# 打印结果  \n",
    "print(label_counts)"
   ]
  },
  {
   "cell_type": "code",
   "execution_count": 22,
   "metadata": {},
   "outputs": [
    {
     "name": "stdout",
     "output_type": "stream",
     "text": [
      "C    92\n",
      "N    79\n",
      "D    75\n",
      "M    52\n",
      "Name: labels, dtype: int64\n"
     ]
    }
   ],
   "source": [
    "import pandas as pd  \n",
    "  \n",
    "# 读取CSV文件  \n",
    "file_path = r'C:\\Users\\HP\\Desktop\\指南者\\项目\\眼病预测\\validation.csv'  # 替换为你的CSV文件路径  \n",
    "df = pd.read_csv(file_path)  \n",
    "  \n",
    "# 如果labels列的值是列表的字符串表示（例如：\"['C']\"），则需要先将它们转换为单个标签字符串  \n",
    "# 假设labels列的值是类似\"['C']\"这样的格式，我们需要去掉方括号和引号  \n",
    "import ast  \n",
    "  \n",
    "def clean_label(label):  \n",
    "    # 使用ast.literal_eval将字符串表示的列表转换回列表  \n",
    "    label_list = ast.literal_eval(label)  \n",
    "    # 假设列表只有一个元素，我们取第一个元素作为标签  \n",
    "    return label_list[0] if label_list else None  \n",
    "  \n",
    "# 应用clean_label函数到labels列  \n",
    "df['labels'] = df['labels'].apply(clean_label)  \n",
    "  \n",
    "# 现在统计labels列中各个值的出现次数  \n",
    "label_counts = df['labels'].value_counts()  \n",
    "  \n",
    "# 打印结果  \n",
    "print(label_counts)"
   ]
  },
  {
   "cell_type": "code",
   "execution_count": 23,
   "metadata": {},
   "outputs": [
    {
     "name": "stdout",
     "output_type": "stream",
     "text": [
      "Images have been copied to the respective train, test, and validation folders.\n"
     ]
    }
   ],
   "source": [
    "import os  \n",
    "import shutil  \n",
    "  \n",
    "# 假设原始图像文件夹路径  \n",
    "source_folder = r'C:\\Users\\HP\\Desktop\\指南者\\项目\\眼病预测\\chosen_images'  \n",
    "  \n",
    "# 新的训练集、测试集和验证集图像文件夹路径  \n",
    "train_images_folder = r'C:\\Users\\HP\\Desktop\\指南者\\项目\\眼病预测\\train_images'  \n",
    "test_images_folder = r'C:\\Users\\HP\\Desktop\\指南者\\项目\\眼病预测\\test_images'  \n",
    "validation_images_folder = r'C:\\Users\\HP\\Desktop\\指南者\\项目\\眼病预测\\validation_images'  \n",
    "  \n",
    "# 创建新的文件夹（如果它们不存在）  \n",
    "os.makedirs(train_images_folder, exist_ok=True)  \n",
    "os.makedirs(test_images_folder, exist_ok=True)  \n",
    "os.makedirs(validation_images_folder, exist_ok=True)  \n",
    "  \n",
    "# 假设 train_df_temp, test_df, validation_df 是已经加载的 DataFrame，且包含列 'filename'  \n",
    "# 其中 'filename' 列包含没有扩展名的整数文件名  \n",
    "train_filenames_int = train_df_temp['filename'].tolist()  \n",
    "test_filenames_int = test_df['filename'].tolist()  \n",
    "validation_filenames_int = validation_df['filename'].tolist()  \n",
    "  \n",
    "# 将整数文件名转换为字符串并添加 .jpg 扩展名  \n",
    "train_filenames_str = [str(filename) + '.jpg' for filename in train_filenames_int]  \n",
    "test_filenames_str = [str(filename) + '.jpg' for filename in test_filenames_int]  \n",
    "validation_filenames_str = [str(filename) + '.jpg' for filename in validation_filenames_int]  \n",
    "  \n",
    "# 复制训练集图像到新的训练集文件夹  \n",
    "for filename in train_filenames_str:  \n",
    "    source_path = os.path.join(source_folder, filename)  \n",
    "    destination_path = os.path.join(train_images_folder, filename)  \n",
    "    shutil.copy(source_path, destination_path)  \n",
    "  \n",
    "# 复制测试集图像到新的测试集文件夹  \n",
    "for filename in test_filenames_str:  \n",
    "    source_path = os.path.join(source_folder, filename)  \n",
    "    destination_path = os.path.join(test_images_folder, filename)  \n",
    "    shutil.copy(source_path, destination_path)  \n",
    "  \n",
    "# 复制验证集图像到新的验证集文件夹  \n",
    "for filename in validation_filenames_str:  \n",
    "    source_path = os.path.join(source_folder, filename)  \n",
    "    destination_path = os.path.join(validation_images_folder, filename)  \n",
    "    shutil.copy(source_path, destination_path)  \n",
    "  \n",
    "print(\"Images have been copied to the respective train, test, and validation folders.\")"
   ]
  },
  {
   "cell_type": "code",
   "execution_count": 25,
   "metadata": {},
   "outputs": [],
   "source": [
    "import numpy as np\n",
    "import os\n",
    "from pathlib import Path\n",
    "from PIL import Image\n",
    "\n",
    "# 函数用于归一化图片\n",
    "def normalize_image(image_path, output_folder):\n",
    "    # 读取图片并转换为浮点数\n",
    "    image_array = np.array(Image.open(image_path), dtype=np.float32)\n",
    "    \n",
    "    # 计算均值和标准差\n",
    "    mean = image_array.mean()\n",
    "    std_dev = image_array.std()\n",
    "\n",
    "    # 归一化处理\n",
    "    normalized_image_array = (image_array - mean) / std_dev\n",
    "\n",
    "    # 确保输出目录存在\n",
    "    output_path = Path(output_folder)\n",
    "    output_path.mkdir(parents=True, exist_ok=True)\n",
    "    \n",
    "    # 保存归一化后的图像为.npy文件\n",
    "    np.save(output_path / (Path(image_path).stem + '.npy'), normalized_image_array)\n",
    "\n",
    "# 归一化指定文件夹中的所有图片\n",
    "def normalize_folder(folder_path, output_folder):\n",
    "    # 获取所有JPEG图片的文件路径\n",
    "    image_paths = list(Path(folder_path).glob('*.jpg'))\n",
    "    for image_path in image_paths:\n",
    "        normalize_image(image_path, output_folder)\n",
    "\n",
    "# 调用函数归一化train_images和test_images文件夹中的图片\n",
    "normalize_folder(r'C:\\Users\\HP\\Desktop\\指南者\\项目\\眼病预测\\train_images', r'C:\\Users\\HP\\Desktop\\指南者\\项目\\眼病预测\\normalized_train_images')\n",
    "normalize_folder(r'C:\\Users\\HP\\Desktop\\指南者\\项目\\眼病预测\\test_images', r'C:\\Users\\HP\\Desktop\\指南者\\项目\\眼病预测\\normalized_test_images')\n",
    "normalize_folder(r'C:\\Users\\HP\\Desktop\\指南者\\项目\\眼病预测\\validation_images', r'C:\\Users\\HP\\Desktop\\指南者\\项目\\眼病预测\\normalized_validation_images')"
   ]
  },
  {
   "cell_type": "code",
   "execution_count": null,
   "metadata": {},
   "outputs": [],
   "source": []
  }
 ],
 "metadata": {
  "kernelspec": {
   "display_name": "Python 3",
   "language": "python",
   "name": "python3"
  },
  "language_info": {
   "codemirror_mode": {
    "name": "ipython",
    "version": 3
   },
   "file_extension": ".py",
   "mimetype": "text/x-python",
   "name": "python",
   "nbconvert_exporter": "python",
   "pygments_lexer": "ipython3",
   "version": "3.7.3"
  }
 },
 "nbformat": 4,
 "nbformat_minor": 2
}
