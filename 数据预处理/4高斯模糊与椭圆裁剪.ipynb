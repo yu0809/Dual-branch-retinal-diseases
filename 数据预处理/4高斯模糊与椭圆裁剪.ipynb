{
 "cells": [
  {
   "cell_type": "code",
   "execution_count": 1,
   "id": "867c1954",
   "metadata": {
    "execution": {
     "iopub.execute_input": "2024-06-03T11:41:06.402460Z",
     "iopub.status.busy": "2024-06-03T11:41:06.401673Z",
     "iopub.status.idle": "2024-06-03T11:41:06.608924Z",
     "shell.execute_reply": "2024-06-03T11:41:06.608066Z"
    },
    "papermill": {
     "duration": 0.213402,
     "end_time": "2024-06-03T11:41:06.611273",
     "exception": false,
     "start_time": "2024-06-03T11:41:06.397871",
     "status": "completed"
    },
    "tags": []
   },
   "outputs": [],
   "source": [
    "import cv2\n",
    "import numpy as np\n",
    "import os\n",
    "import glob\n",
    "\n",
    "IMG_SIZE = 512  # 设置图像大小为 512x512\n",
    "\n",
    "def crop_image_from_gray(img, tol=7):\n",
    "    if img.ndim == 2:\n",
    "        mask = img > tol\n",
    "        return img[np.ix_(mask.any(1), mask.any(0))]\n",
    "    elif img.ndim == 3:\n",
    "        gray_img = cv2.cvtColor(img, cv2.COLOR_RGB2GRAY)\n",
    "        mask = gray_img > tol\n",
    "        \n",
    "        check_shape = img[:,:,0][np.ix_(mask.any(1), mask.any(0))].shape[0]\n",
    "        if check_shape == 0:  # 图像太暗，将裁剪所有内容，返回原始图像\n",
    "            return img\n",
    "        else:\n",
    "            img1 = img[:,:,0][np.ix_(mask.any(1), mask.any(0))]\n",
    "            img2 = img[:,:,1][np.ix_(mask.any(1), mask.any(0))]\n",
    "            img3 = img[:,:,2][np.ix_(mask.any(1), mask.any(0))]\n",
    "            img = np.stack([img1, img2, img3], axis=-1)\n",
    "        return img\n",
    "\n",
    "def circle_crop(img, sigmaX):\n",
    "    \"\"\"\n",
    "    在图像中心创建圆形裁剪\n",
    "    \"\"\"\n",
    "    img = crop_image_from_gray(img)\n",
    "    img = cv2.cvtColor(img, cv2.COLOR_RGB2BGR)\n",
    "    \n",
    "    height, width, depth = img.shape\n",
    "    x = int(width / 2)\n",
    "    y = int(height / 2)\n",
    "    r = np.amin((x, y))\n",
    "    \n",
    "    circle_img = np.zeros((height, width), np.uint8)\n",
    "    cv2.circle(circle_img, (x, y), int(r), 1, thickness=-1)\n",
    "    \n",
    "    img = cv2.bitwise_and(img, img, mask=circle_img)\n",
    "    img = crop_image_from_gray(img)\n",
    "    img = cv2.addWeighted(img, 4, cv2.GaussianBlur(img, (0, 0), sigmaX), -4, 128)\n",
    "    \n",
    "    return img"
   ]
  },
  {
   "cell_type": "code",
   "execution_count": 2,
   "id": "bf460601",
   "metadata": {
    "execution": {
     "iopub.execute_input": "2024-06-03T11:41:06.616275Z",
     "iopub.status.busy": "2024-06-03T11:41:06.616005Z",
     "iopub.status.idle": "2024-06-03T11:45:51.934642Z",
     "shell.execute_reply": "2024-06-03T11:45:51.933720Z"
    },
    "papermill": {
     "duration": 285.32511,
     "end_time": "2024-06-03T11:45:51.938470",
     "exception": false,
     "start_time": "2024-06-03T11:41:06.613360",
     "status": "completed"
    },
    "tags": []
   },
   "outputs": [
    {
     "name": "stdout",
     "output_type": "stream",
     "text": [
      "Image processing and saving completed.\n"
     ]
    }
   ],
   "source": [
    "import cv2\n",
    "import numpy as np\n",
    "import os\n",
    "import glob\n",
    "\n",
    "IMG_SIZE = 512  # 设置图像大小为 512x512\n",
    "\n",
    "# 定义 crop_image_from_gray 和 circle_crop 函数\n",
    "\n",
    "source_folders = [\n",
    "    '/kaggle/input/new-mirrored-d-n-raw/D_N_train_images/D_N_train_images',\n",
    "    '/kaggle/input/new-mirrored-d-n-raw/D_N_validation_images/D_N_validation_images',\n",
    "    '/kaggle/input/new-mirrored-d-n-raw/D_N_test_images/D_N_test_images'\n",
    "]\n",
    "\n",
    "target_folders = [\n",
    "    '/kaggle/working/gaus_train',\n",
    "    '/kaggle/working/gaus_validation',\n",
    "    '/kaggle/working/gaus_test'\n",
    "]\n",
    "\n",
    "for source_folder, target_folder in zip(source_folders, target_folders):\n",
    "    # 确保目标文件夹存在\n",
    "    if not os.path.exists(target_folder):\n",
    "        os.makedirs(target_folder)\n",
    "    \n",
    "    # 获取源文件夹中所有图像的文件路径\n",
    "    image_paths = glob.glob(os.path.join(source_folder, '*.jpg'))  # 假设图片为.jpg格式，根据需要调整\n",
    "    \n",
    "    for image_path in image_paths:\n",
    "        # 读取和处理图像\n",
    "        img = cv2.imread(image_path)\n",
    "        img = cv2.cvtColor(img, cv2.COLOR_BGR2RGB)\n",
    "        img = cv2.resize(img, (IMG_SIZE, IMG_SIZE))  # 确保图像是512x512\n",
    "        processed_img = circle_crop(img, sigmaX=30)\n",
    "        \n",
    "        # 构建目标文件路径\n",
    "        target_image_path = os.path.join(target_folder, os.path.basename(image_path))\n",
    "        \n",
    "        # 保存处理后的图像\n",
    "        cv2.imwrite(target_image_path, cv2.cvtColor(processed_img, cv2.COLOR_RGB2BGR))\n",
    "\n",
    "print(\"Image processing and saving completed.\")\n"
   ]
  }
 ],
 "metadata": {
  "kaggle": {
   "accelerator": "gpu",
   "dataSources": [
    {
     "datasetId": 4627883,
     "sourceId": 7915116,
     "sourceType": "datasetVersion"
    },
    {
     "datasetId": 5140763,
     "sourceId": 8593694,
     "sourceType": "datasetVersion"
    }
   ],
   "dockerImageVersionId": 30673,
   "isGpuEnabled": true,
   "isInternetEnabled": true,
   "language": "python",
   "sourceType": "notebook"
  },
  "kernelspec": {
   "display_name": "Python 3",
   "language": "python",
   "name": "python3"
  },
  "language_info": {
   "codemirror_mode": {
    "name": "ipython",
    "version": 3
   },
   "file_extension": ".py",
   "mimetype": "text/x-python",
   "name": "python",
   "nbconvert_exporter": "python",
   "pygments_lexer": "ipython3",
   "version": "3.10.13"
  },
  "papermill": {
   "default_parameters": {},
   "duration": 288.604968,
   "end_time": "2024-06-03T11:45:52.159334",
   "environment_variables": {},
   "exception": null,
   "input_path": "__notebook__.ipynb",
   "output_path": "__notebook__.ipynb",
   "parameters": {},
   "start_time": "2024-06-03T11:41:03.554366",
   "version": "2.5.0"
  }
 },
 "nbformat": 4,
 "nbformat_minor": 5
}
