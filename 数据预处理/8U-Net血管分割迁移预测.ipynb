{
 "cells": [
  {
   "cell_type": "markdown",
   "id": "0948a68d",
   "metadata": {
    "papermill": {
     "duration": 0.011717,
     "end_time": "2024-06-03T10:07:45.504423",
     "exception": false,
     "start_time": "2024-06-03T10:07:45.492706",
     "status": "completed"
    },
    "tags": []
   },
   "source": [
    "# Import needed libraries"
   ]
  },
  {
   "cell_type": "code",
   "execution_count": 1,
   "id": "b8759417",
   "metadata": {
    "execution": {
     "iopub.execute_input": "2024-06-03T10:07:45.528967Z",
     "iopub.status.busy": "2024-06-03T10:07:45.528162Z",
     "iopub.status.idle": "2024-06-03T10:07:49.891388Z",
     "shell.execute_reply": "2024-06-03T10:07:49.890509Z"
    },
    "papermill": {
     "duration": 4.378114,
     "end_time": "2024-06-03T10:07:49.893807",
     "exception": false,
     "start_time": "2024-06-03T10:07:45.515693",
     "status": "completed"
    },
    "tags": []
   },
   "outputs": [
    {
     "name": "stderr",
     "output_type": "stream",
     "text": [
      "/opt/conda/lib/python3.10/site-packages/scipy/__init__.py:146: UserWarning: A NumPy version >=1.16.5 and <1.23.0 is required for this version of SciPy (detected version 1.23.5\n",
      "  warnings.warn(f\"A NumPy version >={np_minversion} and <{np_maxversion}\"\n"
     ]
    }
   ],
   "source": [
    "import os\n",
    "import cv2\n",
    "import time\n",
    "import random\n",
    "import numpy as np\n",
    "from glob import glob\n",
    "from tqdm import tqdm\n",
    "from operator import add\n",
    "\n",
    "import torch\n",
    "import torch.nn as nn\n",
    "import torch.nn.functional as F\n",
    "from torch.utils.data import Dataset, DataLoader\n",
    "from sklearn.metrics import accuracy_score, f1_score, jaccard_score, precision_score, recall_score"
   ]
  },
  {
   "cell_type": "markdown",
   "id": "430e345b",
   "metadata": {
    "papermill": {
     "duration": 0.011,
     "end_time": "2024-06-03T10:07:49.917222",
     "exception": false,
     "start_time": "2024-06-03T10:07:49.906222",
     "status": "completed"
    },
    "tags": []
   },
   "source": [
    "# Create helper classes and functions"
   ]
  },
  {
   "cell_type": "markdown",
   "id": "2aab052c",
   "metadata": {
    "papermill": {
     "duration": 0.011047,
     "end_time": "2024-06-03T10:07:49.939565",
     "exception": false,
     "start_time": "2024-06-03T10:07:49.928518",
     "status": "completed"
    },
    "tags": []
   },
   "source": [
    "### Dataset class"
   ]
  },
  {
   "cell_type": "code",
   "execution_count": 2,
   "id": "17f10049",
   "metadata": {
    "execution": {
     "iopub.execute_input": "2024-06-03T10:07:49.964358Z",
     "iopub.status.busy": "2024-06-03T10:07:49.963512Z",
     "iopub.status.idle": "2024-06-03T10:07:49.972114Z",
     "shell.execute_reply": "2024-06-03T10:07:49.971240Z"
    },
    "papermill": {
     "duration": 0.023155,
     "end_time": "2024-06-03T10:07:49.974033",
     "exception": false,
     "start_time": "2024-06-03T10:07:49.950878",
     "status": "completed"
    },
    "tags": []
   },
   "outputs": [],
   "source": [
    "class DriveDataset(Dataset):\n",
    "    def __init__(self, images_path, masks_path):\n",
    "\n",
    "        self.images_path = images_path\n",
    "        self.masks_path = masks_path\n",
    "        self.n_samples = len(images_path)\n",
    "\n",
    "    def __getitem__(self, index):\n",
    "        \"\"\" Reading image \"\"\"\n",
    "        image = cv2.imread(self.images_path[index], cv2.IMREAD_COLOR)\n",
    "        image = image/255.0\n",
    "        image = np.transpose(image, (2, 0, 1))\n",
    "        image = image.astype(np.float32)\n",
    "        image = torch.from_numpy(image)\n",
    "\n",
    "        \"\"\" Reading mask \"\"\"\n",
    "        mask = cv2.imread(self.masks_path[index], cv2.IMREAD_GRAYSCALE)\n",
    "        mask = mask/255.0\n",
    "        mask = np.expand_dims(mask, axis=0)\n",
    "        mask = mask.astype(np.float32)\n",
    "        mask = torch.from_numpy(mask)\n",
    "\n",
    "        return image, mask\n",
    "\n",
    "    def __len__(self):\n",
    "        return self.n_samples"
   ]
  },
  {
   "cell_type": "markdown",
   "id": "0614e181",
   "metadata": {
    "papermill": {
     "duration": 0.011565,
     "end_time": "2024-06-03T10:07:49.997011",
     "exception": false,
     "start_time": "2024-06-03T10:07:49.985446",
     "status": "completed"
    },
    "tags": []
   },
   "source": [
    "### Unet helper classes"
   ]
  },
  {
   "cell_type": "code",
   "execution_count": 3,
   "id": "36713752",
   "metadata": {
    "execution": {
     "iopub.execute_input": "2024-06-03T10:07:50.021910Z",
     "iopub.status.busy": "2024-06-03T10:07:50.021091Z",
     "iopub.status.idle": "2024-06-03T10:07:50.028674Z",
     "shell.execute_reply": "2024-06-03T10:07:50.027779Z"
    },
    "papermill": {
     "duration": 0.022156,
     "end_time": "2024-06-03T10:07:50.030785",
     "exception": false,
     "start_time": "2024-06-03T10:07:50.008629",
     "status": "completed"
    },
    "tags": []
   },
   "outputs": [],
   "source": [
    "# Build Conv_layer\n",
    "class conv_block(nn.Module):\n",
    "    def __init__(self, in_c, out_c):\n",
    "        super().__init__()\n",
    "\n",
    "        self.conv1 = nn.Conv2d(in_c, out_c, kernel_size=3, padding=1)\n",
    "        self.bn1 = nn.BatchNorm2d(out_c)\n",
    "\n",
    "        self.conv2 = nn.Conv2d(out_c, out_c, kernel_size=3, padding=1)\n",
    "        self.bn2 = nn.BatchNorm2d(out_c)\n",
    "\n",
    "        self.relu = nn.ReLU()\n",
    "\n",
    "    def forward(self, inputs):\n",
    "        x = self.conv1(inputs)\n",
    "        x = self.bn1(x)\n",
    "        x = self.relu(x)\n",
    "\n",
    "        x = self.conv2(x)\n",
    "        x = self.bn2(x)\n",
    "        x = self.relu(x)\n",
    "\n",
    "        return x"
   ]
  },
  {
   "cell_type": "code",
   "execution_count": 4,
   "id": "4dd03861",
   "metadata": {
    "execution": {
     "iopub.execute_input": "2024-06-03T10:07:50.057008Z",
     "iopub.status.busy": "2024-06-03T10:07:50.056502Z",
     "iopub.status.idle": "2024-06-03T10:07:50.062768Z",
     "shell.execute_reply": "2024-06-03T10:07:50.061813Z"
    },
    "papermill": {
     "duration": 0.022372,
     "end_time": "2024-06-03T10:07:50.064886",
     "exception": false,
     "start_time": "2024-06-03T10:07:50.042514",
     "status": "completed"
    },
    "tags": []
   },
   "outputs": [],
   "source": [
    "# Build Encoder section\n",
    "class encoder_block(nn.Module):\n",
    "    def __init__(self, in_c, out_c):\n",
    "        super().__init__()\n",
    "\n",
    "        self.conv = conv_block(in_c, out_c)\n",
    "        self.pool = nn.MaxPool2d((2, 2))\n",
    "\n",
    "    def forward(self, inputs):\n",
    "        x = self.conv(inputs)\n",
    "        p = self.pool(x)\n",
    "\n",
    "        return x, p"
   ]
  },
  {
   "cell_type": "code",
   "execution_count": 5,
   "id": "33d673f9",
   "metadata": {
    "execution": {
     "iopub.execute_input": "2024-06-03T10:07:50.090422Z",
     "iopub.status.busy": "2024-06-03T10:07:50.089701Z",
     "iopub.status.idle": "2024-06-03T10:07:50.096251Z",
     "shell.execute_reply": "2024-06-03T10:07:50.095378Z"
    },
    "papermill": {
     "duration": 0.021438,
     "end_time": "2024-06-03T10:07:50.098205",
     "exception": false,
     "start_time": "2024-06-03T10:07:50.076767",
     "status": "completed"
    },
    "tags": []
   },
   "outputs": [],
   "source": [
    "# Build Decoder section\n",
    "class decoder_block(nn.Module):\n",
    "    def __init__(self, in_c, out_c):\n",
    "        super().__init__()\n",
    "\n",
    "        self.up = nn.ConvTranspose2d(in_c, out_c, kernel_size=2, stride=2, padding=0)\n",
    "        self.conv = conv_block(out_c+out_c, out_c)\n",
    "\n",
    "    def forward(self, inputs, skip):\n",
    "        x = self.up(inputs)\n",
    "        x = torch.cat([x, skip], axis=1)\n",
    "        x = self.conv(x)\n",
    "        return x"
   ]
  },
  {
   "cell_type": "code",
   "execution_count": 6,
   "id": "9b88d9c9",
   "metadata": {
    "execution": {
     "iopub.execute_input": "2024-06-03T10:07:50.122923Z",
     "iopub.status.busy": "2024-06-03T10:07:50.122248Z",
     "iopub.status.idle": "2024-06-03T10:07:50.131669Z",
     "shell.execute_reply": "2024-06-03T10:07:50.130835Z"
    },
    "papermill": {
     "duration": 0.023945,
     "end_time": "2024-06-03T10:07:50.133693",
     "exception": false,
     "start_time": "2024-06-03T10:07:50.109748",
     "status": "completed"
    },
    "tags": []
   },
   "outputs": [],
   "source": [
    "# Build Unet architecture\n",
    "class build_unet(nn.Module):\n",
    "    def __init__(self):\n",
    "        super().__init__()\n",
    "\n",
    "        # Encoder\n",
    "        self.e1 = encoder_block(3, 64)\n",
    "        self.e2 = encoder_block(64, 128)\n",
    "        self.e3 = encoder_block(128, 256)\n",
    "        self.e4 = encoder_block(256, 512)\n",
    "\n",
    "        # Bottleneck\n",
    "        self.b = conv_block(512, 1024)\n",
    "\n",
    "        # Decoder\n",
    "        self.d1 = decoder_block(1024, 512)\n",
    "        self.d2 = decoder_block(512, 256)\n",
    "        self.d3 = decoder_block(256, 128)\n",
    "        self.d4 = decoder_block(128, 64)\n",
    "\n",
    "        # Classifier\n",
    "        self.outputs = nn.Conv2d(64, 1, kernel_size=1, padding=0)\n",
    "        \n",
    "    def forward(self, inputs):\n",
    "        # Encoder\n",
    "        s1, p1 = self.e1(inputs)\n",
    "        s2, p2 = self.e2(p1)\n",
    "        s3, p3 = self.e3(p2)\n",
    "        s4, p4 = self.e4(p3)\n",
    "\n",
    "        # Bottleneck\n",
    "        b = self.b(p4)\n",
    "\n",
    "        # Decoder\n",
    "        d1 = self.d1(b, s4)\n",
    "        d2 = self.d2(d1, s3)\n",
    "        d3 = self.d3(d2, s2)\n",
    "        d4 = self.d4(d3, s1)\n",
    "\n",
    "        outputs = self.outputs(d4)\n",
    "\n",
    "        return outputs"
   ]
  },
  {
   "cell_type": "markdown",
   "id": "85782b89",
   "metadata": {
    "papermill": {
     "duration": 0.011202,
     "end_time": "2024-06-03T10:07:50.155926",
     "exception": false,
     "start_time": "2024-06-03T10:07:50.144724",
     "status": "completed"
    },
    "tags": []
   },
   "source": [
    "### Losses classes"
   ]
  },
  {
   "cell_type": "code",
   "execution_count": 7,
   "id": "cd4863fb",
   "metadata": {
    "execution": {
     "iopub.execute_input": "2024-06-03T10:07:50.180131Z",
     "iopub.status.busy": "2024-06-03T10:07:50.179449Z",
     "iopub.status.idle": "2024-06-03T10:07:50.185754Z",
     "shell.execute_reply": "2024-06-03T10:07:50.184941Z"
    },
    "papermill": {
     "duration": 0.020254,
     "end_time": "2024-06-03T10:07:50.187590",
     "exception": false,
     "start_time": "2024-06-03T10:07:50.167336",
     "status": "completed"
    },
    "tags": []
   },
   "outputs": [],
   "source": [
    "# Dice Coefficient\n",
    "class DiceLoss(nn.Module):\n",
    "    def __init__(self, weight=None, size_average=True):\n",
    "        super(DiceLoss, self).__init__()\n",
    "\n",
    "    def forward(self, inputs, targets, smooth=1):\n",
    "\n",
    "        #comment out if your model contains a sigmoid or equivalent activation layer\n",
    "        inputs = torch.sigmoid(inputs)\n",
    "\n",
    "        #flatten label and prediction tensors\n",
    "        inputs = inputs.view(-1)\n",
    "        targets = targets.view(-1)\n",
    "\n",
    "        intersection = (inputs * targets).sum()\n",
    "        dice = (2.*intersection + smooth)/(inputs.sum() + targets.sum() + smooth)\n",
    "\n",
    "        return 1 - dice"
   ]
  },
  {
   "cell_type": "code",
   "execution_count": 8,
   "id": "19e2e5ea",
   "metadata": {
    "execution": {
     "iopub.execute_input": "2024-06-03T10:07:50.210960Z",
     "iopub.status.busy": "2024-06-03T10:07:50.210697Z",
     "iopub.status.idle": "2024-06-03T10:07:50.217474Z",
     "shell.execute_reply": "2024-06-03T10:07:50.216677Z"
    },
    "papermill": {
     "duration": 0.020588,
     "end_time": "2024-06-03T10:07:50.219328",
     "exception": false,
     "start_time": "2024-06-03T10:07:50.198740",
     "status": "completed"
    },
    "tags": []
   },
   "outputs": [],
   "source": [
    "# Dice Binary Cross Entropy Coefficient\n",
    "class DiceBCELoss(nn.Module):\n",
    "    def __init__(self, weight=None, size_average=True):\n",
    "        super(DiceBCELoss, self).__init__()\n",
    "\n",
    "    def forward(self, inputs, targets, smooth=1):\n",
    "\n",
    "        #comment out if your model contains a sigmoid or equivalent activation layer\n",
    "        inputs = torch.sigmoid(inputs)\n",
    "\n",
    "        #flatten label and prediction tensors\n",
    "        inputs = inputs.view(-1)\n",
    "        targets = targets.view(-1)\n",
    "\n",
    "        intersection = (inputs * targets).sum()\n",
    "        dice_loss = 1 - (2.*intersection + smooth)/(inputs.sum() + targets.sum() + smooth)\n",
    "        BCE = F.binary_cross_entropy(inputs, targets, reduction='mean')\n",
    "        Dice_BCE = BCE + dice_loss\n",
    "\n",
    "        return Dice_BCE"
   ]
  },
  {
   "cell_type": "markdown",
   "id": "54f956bb",
   "metadata": {
    "papermill": {
     "duration": 0.011018,
     "end_time": "2024-06-03T10:07:50.241529",
     "exception": false,
     "start_time": "2024-06-03T10:07:50.230511",
     "status": "completed"
    },
    "tags": []
   },
   "source": [
    "### Function to seed the randomness"
   ]
  },
  {
   "cell_type": "code",
   "execution_count": 9,
   "id": "ad56bc95",
   "metadata": {
    "execution": {
     "iopub.execute_input": "2024-06-03T10:07:50.265443Z",
     "iopub.status.busy": "2024-06-03T10:07:50.264876Z",
     "iopub.status.idle": "2024-06-03T10:07:50.270054Z",
     "shell.execute_reply": "2024-06-03T10:07:50.269172Z"
    },
    "papermill": {
     "duration": 0.019175,
     "end_time": "2024-06-03T10:07:50.271971",
     "exception": false,
     "start_time": "2024-06-03T10:07:50.252796",
     "status": "completed"
    },
    "tags": []
   },
   "outputs": [],
   "source": [
    "def seeding(seed):\n",
    "    random.seed(seed)\n",
    "    os.environ[\"PYTHONHASHSEED\"] = str(seed)\n",
    "    np.random.seed(seed)\n",
    "    torch.manual_seed(seed)\n",
    "    torch.cuda.manual_seed(seed)\n",
    "    torch.backends.cudnn.deterministic = True"
   ]
  },
  {
   "cell_type": "markdown",
   "id": "db0869a3",
   "metadata": {
    "papermill": {
     "duration": 0.011094,
     "end_time": "2024-06-03T10:07:50.293944",
     "exception": false,
     "start_time": "2024-06-03T10:07:50.282850",
     "status": "completed"
    },
    "tags": []
   },
   "source": [
    "### Function to create a new directory"
   ]
  },
  {
   "cell_type": "code",
   "execution_count": 10,
   "id": "048dc5c3",
   "metadata": {
    "execution": {
     "iopub.execute_input": "2024-06-03T10:07:50.317715Z",
     "iopub.status.busy": "2024-06-03T10:07:50.316982Z",
     "iopub.status.idle": "2024-06-03T10:07:50.321702Z",
     "shell.execute_reply": "2024-06-03T10:07:50.320823Z"
    },
    "papermill": {
     "duration": 0.018631,
     "end_time": "2024-06-03T10:07:50.323565",
     "exception": false,
     "start_time": "2024-06-03T10:07:50.304934",
     "status": "completed"
    },
    "tags": []
   },
   "outputs": [],
   "source": [
    "def create_dir(path):\n",
    "    if not os.path.exists(path):\n",
    "        os.makedirs(path)"
   ]
  },
  {
   "cell_type": "markdown",
   "id": "560d05f1",
   "metadata": {
    "papermill": {
     "duration": 0.010997,
     "end_time": "2024-06-03T10:07:50.345699",
     "exception": false,
     "start_time": "2024-06-03T10:07:50.334702",
     "status": "completed"
    },
    "tags": []
   },
   "source": [
    "### Function to calculate the taken time"
   ]
  },
  {
   "cell_type": "code",
   "execution_count": 11,
   "id": "153c2805",
   "metadata": {
    "execution": {
     "iopub.execute_input": "2024-06-03T10:07:50.368737Z",
     "iopub.status.busy": "2024-06-03T10:07:50.368407Z",
     "iopub.status.idle": "2024-06-03T10:07:50.373049Z",
     "shell.execute_reply": "2024-06-03T10:07:50.372176Z"
    },
    "papermill": {
     "duration": 0.018364,
     "end_time": "2024-06-03T10:07:50.374897",
     "exception": false,
     "start_time": "2024-06-03T10:07:50.356533",
     "status": "completed"
    },
    "tags": []
   },
   "outputs": [],
   "source": [
    "def epoch_time(start_time, end_time):\n",
    "    elapsed_time = end_time - start_time\n",
    "    elapsed_mins = int(elapsed_time / 60)\n",
    "    elapsed_secs = int(elapsed_time - (elapsed_mins * 60))\n",
    "    return elapsed_mins, elapsed_secs"
   ]
  },
  {
   "cell_type": "markdown",
   "id": "7b03a7af",
   "metadata": {
    "papermill": {
     "duration": 0.010834,
     "end_time": "2024-06-03T10:07:50.396737",
     "exception": false,
     "start_time": "2024-06-03T10:07:50.385903",
     "status": "completed"
    },
    "tags": []
   },
   "source": [
    "### Function to train the model"
   ]
  },
  {
   "cell_type": "code",
   "execution_count": 12,
   "id": "317e375a",
   "metadata": {
    "execution": {
     "iopub.execute_input": "2024-06-03T10:07:50.420450Z",
     "iopub.status.busy": "2024-06-03T10:07:50.420131Z",
     "iopub.status.idle": "2024-06-03T10:07:50.426208Z",
     "shell.execute_reply": "2024-06-03T10:07:50.425369Z"
    },
    "papermill": {
     "duration": 0.020158,
     "end_time": "2024-06-03T10:07:50.428038",
     "exception": false,
     "start_time": "2024-06-03T10:07:50.407880",
     "status": "completed"
    },
    "tags": []
   },
   "outputs": [],
   "source": [
    "def train(model, loader, optimizer, loss_fn, device):\n",
    "    epoch_loss = 0.0\n",
    "\n",
    "    model.train()\n",
    "    for x, y in loader:\n",
    "        x = x.to(device, dtype=torch.float32)\n",
    "        y = y.to(device, dtype=torch.float32)\n",
    "\n",
    "        optimizer.zero_grad()\n",
    "        y_pred = model(x)\n",
    "        loss = loss_fn(y_pred, y)\n",
    "        loss.backward()\n",
    "        optimizer.step()\n",
    "        epoch_loss += loss.item()\n",
    "\n",
    "    epoch_loss = epoch_loss/len(loader)\n",
    "    return epoch_loss"
   ]
  },
  {
   "cell_type": "markdown",
   "id": "b14563b4",
   "metadata": {
    "papermill": {
     "duration": 0.010837,
     "end_time": "2024-06-03T10:07:50.449731",
     "exception": false,
     "start_time": "2024-06-03T10:07:50.438894",
     "status": "completed"
    },
    "tags": []
   },
   "source": [
    "### Function to evaluate the model"
   ]
  },
  {
   "cell_type": "code",
   "execution_count": 13,
   "id": "691f5472",
   "metadata": {
    "execution": {
     "iopub.execute_input": "2024-06-03T10:07:50.472742Z",
     "iopub.status.busy": "2024-06-03T10:07:50.472434Z",
     "iopub.status.idle": "2024-06-03T10:07:50.478326Z",
     "shell.execute_reply": "2024-06-03T10:07:50.477568Z"
    },
    "papermill": {
     "duration": 0.019538,
     "end_time": "2024-06-03T10:07:50.480121",
     "exception": false,
     "start_time": "2024-06-03T10:07:50.460583",
     "status": "completed"
    },
    "tags": []
   },
   "outputs": [],
   "source": [
    "def evaluate(model, loader, loss_fn, device):\n",
    "    epoch_loss = 0.0\n",
    "\n",
    "    model.eval()\n",
    "    with torch.no_grad():\n",
    "        for x, y in loader:\n",
    "            x = x.to(device, dtype=torch.float32)\n",
    "            y = y.to(device, dtype=torch.float32)\n",
    "\n",
    "            y_pred = model(x)\n",
    "            loss = loss_fn(y_pred, y)\n",
    "            epoch_loss += loss.item()\n",
    "\n",
    "        epoch_loss = epoch_loss / len(loader)\n",
    "    return epoch_loss"
   ]
  },
  {
   "cell_type": "markdown",
   "id": "733b442e",
   "metadata": {
    "papermill": {
     "duration": 0.01086,
     "end_time": "2024-06-03T10:07:50.501950",
     "exception": false,
     "start_time": "2024-06-03T10:07:50.491090",
     "status": "completed"
    },
    "tags": []
   },
   "source": [
    "# Data Preprocessing"
   ]
  },
  {
   "cell_type": "markdown",
   "id": "aa2cbb15",
   "metadata": {
    "papermill": {
     "duration": 0.011375,
     "end_time": "2024-06-03T10:07:50.524504",
     "exception": false,
     "start_time": "2024-06-03T10:07:50.513129",
     "status": "completed"
    },
    "tags": []
   },
   "source": [
    "### Get data paths"
   ]
  },
  {
   "cell_type": "code",
   "execution_count": 14,
   "id": "1b37637c",
   "metadata": {
    "execution": {
     "iopub.execute_input": "2024-06-03T10:07:50.548102Z",
     "iopub.status.busy": "2024-06-03T10:07:50.547783Z",
     "iopub.status.idle": "2024-06-03T10:07:50.602464Z",
     "shell.execute_reply": "2024-06-03T10:07:50.601485Z"
    },
    "papermill": {
     "duration": 0.069007,
     "end_time": "2024-06-03T10:07:50.604535",
     "exception": false,
     "start_time": "2024-06-03T10:07:50.535528",
     "status": "completed"
    },
    "tags": []
   },
   "outputs": [
    {
     "name": "stdout",
     "output_type": "stream",
     "text": [
      "Dataset Size:\n",
      "Train: 80 - Valid: 20\n",
      "\n"
     ]
    }
   ],
   "source": [
    "# Seeding\n",
    "seeding(42)\n",
    "\n",
    "# Create files directory to store checkpoint file\n",
    "create_dir(\"files\")\n",
    "\n",
    "#  Get data paths\n",
    "train_x = sorted(glob(\"/kaggle/input/retina-blood-vessel/Data/train/image/*\"))\n",
    "train_y = sorted(glob(\"/kaggle/input/retina-blood-vessel/Data/train/mask/*\"))\n",
    "\n",
    "valid_x = sorted(glob(\"/kaggle/input/retina-blood-vessel/Data/test/image/*\"))\n",
    "valid_y = sorted(glob(\"/kaggle/input/retina-blood-vessel/Data/test/mask/*\"))\n",
    "\n",
    "data_str = f\"Dataset Size:\\nTrain: {len(train_x)} - Valid: {len(valid_x)}\\n\"\n",
    "print(data_str)"
   ]
  },
  {
   "cell_type": "markdown",
   "id": "55a90e3c",
   "metadata": {
    "papermill": {
     "duration": 0.01088,
     "end_time": "2024-06-03T10:07:50.626995",
     "exception": false,
     "start_time": "2024-06-03T10:07:50.616115",
     "status": "completed"
    },
    "tags": []
   },
   "source": [
    "### Set hyperparameters"
   ]
  },
  {
   "cell_type": "code",
   "execution_count": 15,
   "id": "e574d889",
   "metadata": {
    "execution": {
     "iopub.execute_input": "2024-06-03T10:07:50.650191Z",
     "iopub.status.busy": "2024-06-03T10:07:50.649900Z",
     "iopub.status.idle": "2024-06-03T10:07:50.654468Z",
     "shell.execute_reply": "2024-06-03T10:07:50.653595Z"
    },
    "papermill": {
     "duration": 0.018506,
     "end_time": "2024-06-03T10:07:50.656442",
     "exception": false,
     "start_time": "2024-06-03T10:07:50.637936",
     "status": "completed"
    },
    "tags": []
   },
   "outputs": [],
   "source": [
    "H = 512\n",
    "W = 512\n",
    "size = (H, W)\n",
    "batch_size = 2\n",
    "lr = 1e-4\n",
    "checkpoint_path = \"files/checkpoint.pth\""
   ]
  },
  {
   "cell_type": "markdown",
   "id": "b9611ff5",
   "metadata": {
    "papermill": {
     "duration": 0.01094,
     "end_time": "2024-06-03T10:07:50.678320",
     "exception": false,
     "start_time": "2024-06-03T10:07:50.667380",
     "status": "completed"
    },
    "tags": []
   },
   "source": [
    "### Load dataset"
   ]
  },
  {
   "cell_type": "code",
   "execution_count": 16,
   "id": "5eb9de5f",
   "metadata": {
    "execution": {
     "iopub.execute_input": "2024-06-03T10:07:50.701630Z",
     "iopub.status.busy": "2024-06-03T10:07:50.701319Z",
     "iopub.status.idle": "2024-06-03T10:07:50.706655Z",
     "shell.execute_reply": "2024-06-03T10:07:50.705870Z"
    },
    "papermill": {
     "duration": 0.019218,
     "end_time": "2024-06-03T10:07:50.708470",
     "exception": false,
     "start_time": "2024-06-03T10:07:50.689252",
     "status": "completed"
    },
    "tags": []
   },
   "outputs": [],
   "source": [
    "train_dataset = DriveDataset(train_x, train_y)\n",
    "valid_dataset = DriveDataset(valid_x, valid_y)\n",
    "\n",
    "train_loader = DataLoader(\n",
    "    dataset=train_dataset,\n",
    "    batch_size=batch_size,\n",
    "    shuffle=True,\n",
    "    num_workers=2\n",
    ")\n",
    "\n",
    "valid_loader = DataLoader(\n",
    "    dataset=valid_dataset,\n",
    "    batch_size=batch_size,\n",
    "    shuffle=False,\n",
    "    num_workers=2\n",
    ")"
   ]
  },
  {
   "cell_type": "markdown",
   "id": "f7a3cbe8",
   "metadata": {
    "papermill": {
     "duration": 0.011223,
     "end_time": "2024-06-03T10:07:50.730796",
     "exception": false,
     "start_time": "2024-06-03T10:07:50.719573",
     "status": "completed"
    },
    "tags": []
   },
   "source": [
    "# Unet Model"
   ]
  },
  {
   "cell_type": "code",
   "execution_count": 17,
   "id": "57e59237",
   "metadata": {
    "execution": {
     "iopub.execute_input": "2024-06-03T10:07:50.754501Z",
     "iopub.status.busy": "2024-06-03T10:07:50.754166Z",
     "iopub.status.idle": "2024-06-03T10:07:51.291958Z",
     "shell.execute_reply": "2024-06-03T10:07:51.291145Z"
    },
    "papermill": {
     "duration": 0.552544,
     "end_time": "2024-06-03T10:07:51.294369",
     "exception": false,
     "start_time": "2024-06-03T10:07:50.741825",
     "status": "completed"
    },
    "tags": []
   },
   "outputs": [],
   "source": [
    "# Set cuda device\n",
    "device = torch.device('cuda' if torch.cuda.is_available() else 'cpu')\n",
    "\n",
    "# Build model\n",
    "model = build_unet()\n",
    "model = model.to(device)\n",
    "\n",
    "# Set Optimizer and Loss\n",
    "optimizer = torch.optim.Adam(model.parameters(), lr=lr)\n",
    "scheduler = torch.optim.lr_scheduler.ReduceLROnPlateau(optimizer, 'min', patience=5, verbose=True)\n",
    "loss_fn = DiceBCELoss()"
   ]
  },
  {
   "cell_type": "markdown",
   "id": "be463487",
   "metadata": {
    "papermill": {
     "duration": 0.011066,
     "end_time": "2024-06-03T10:07:51.316913",
     "exception": false,
     "start_time": "2024-06-03T10:07:51.305847",
     "status": "completed"
    },
    "tags": []
   },
   "source": [
    "# Model Training"
   ]
  },
  {
   "cell_type": "code",
   "execution_count": 18,
   "id": "64ba4eee",
   "metadata": {
    "_kg_hide-output": true,
    "execution": {
     "iopub.execute_input": "2024-06-03T10:07:51.341186Z",
     "iopub.status.busy": "2024-06-03T10:07:51.340195Z",
     "iopub.status.idle": "2024-06-03T10:18:08.977165Z",
     "shell.execute_reply": "2024-06-03T10:18:08.975840Z"
    },
    "papermill": {
     "duration": 617.651712,
     "end_time": "2024-06-03T10:18:08.979599",
     "exception": false,
     "start_time": "2024-06-03T10:07:51.327887",
     "status": "completed"
    },
    "tags": []
   },
   "outputs": [
    {
     "name": "stdout",
     "output_type": "stream",
     "text": [
      "Valid loss improved from inf to 1.3115. Saving checkpoint: files/checkpoint.pth\n",
      "Epoch: 01 | Epoch Time: 0m 13s\n",
      "\tTrain Loss: 1.180\n",
      "\tVal. Loss: 1.311\n",
      "\n",
      "Valid loss improved from 1.3115 to 0.9465. Saving checkpoint: files/checkpoint.pth\n",
      "Epoch: 02 | Epoch Time: 0m 12s\n",
      "\tTrain Loss: 0.986\n",
      "\tVal. Loss: 0.946\n",
      "\n",
      "Valid loss improved from 0.9465 to 0.9119. Saving checkpoint: files/checkpoint.pth\n",
      "Epoch: 03 | Epoch Time: 0m 12s\n",
      "\tTrain Loss: 0.924\n",
      "\tVal. Loss: 0.912\n",
      "\n",
      "Valid loss improved from 0.9119 to 0.8598. Saving checkpoint: files/checkpoint.pth\n",
      "Epoch: 04 | Epoch Time: 0m 12s\n",
      "\tTrain Loss: 0.875\n",
      "\tVal. Loss: 0.860\n",
      "\n",
      "Valid loss improved from 0.8598 to 0.8107. Saving checkpoint: files/checkpoint.pth\n",
      "Epoch: 05 | Epoch Time: 0m 12s\n",
      "\tTrain Loss: 0.835\n",
      "\tVal. Loss: 0.811\n",
      "\n",
      "Valid loss improved from 0.8107 to 0.7898. Saving checkpoint: files/checkpoint.pth\n",
      "Epoch: 06 | Epoch Time: 0m 12s\n",
      "\tTrain Loss: 0.802\n",
      "\tVal. Loss: 0.790\n",
      "\n",
      "Valid loss improved from 0.7898 to 0.7455. Saving checkpoint: files/checkpoint.pth\n",
      "Epoch: 07 | Epoch Time: 0m 12s\n",
      "\tTrain Loss: 0.763\n",
      "\tVal. Loss: 0.746\n",
      "\n",
      "Valid loss improved from 0.7455 to 0.7256. Saving checkpoint: files/checkpoint.pth\n",
      "Epoch: 08 | Epoch Time: 0m 12s\n",
      "\tTrain Loss: 0.729\n",
      "\tVal. Loss: 0.726\n",
      "\n",
      "Valid loss improved from 0.7256 to 0.6864. Saving checkpoint: files/checkpoint.pth\n",
      "Epoch: 09 | Epoch Time: 0m 12s\n",
      "\tTrain Loss: 0.696\n",
      "\tVal. Loss: 0.686\n",
      "\n",
      "Valid loss improved from 0.6864 to 0.6615. Saving checkpoint: files/checkpoint.pth\n",
      "Epoch: 10 | Epoch Time: 0m 12s\n",
      "\tTrain Loss: 0.667\n",
      "\tVal. Loss: 0.661\n",
      "\n",
      "Valid loss improved from 0.6615 to 0.6254. Saving checkpoint: files/checkpoint.pth\n",
      "Epoch: 11 | Epoch Time: 0m 12s\n",
      "\tTrain Loss: 0.640\n",
      "\tVal. Loss: 0.625\n",
      "\n",
      "Valid loss improved from 0.6254 to 0.6022. Saving checkpoint: files/checkpoint.pth\n",
      "Epoch: 12 | Epoch Time: 0m 12s\n",
      "\tTrain Loss: 0.614\n",
      "\tVal. Loss: 0.602\n",
      "\n",
      "Valid loss improved from 0.6022 to 0.5859. Saving checkpoint: files/checkpoint.pth\n",
      "Epoch: 13 | Epoch Time: 0m 12s\n",
      "\tTrain Loss: 0.588\n",
      "\tVal. Loss: 0.586\n",
      "\n",
      "Valid loss improved from 0.5859 to 0.5554. Saving checkpoint: files/checkpoint.pth\n",
      "Epoch: 14 | Epoch Time: 0m 12s\n",
      "\tTrain Loss: 0.569\n",
      "\tVal. Loss: 0.555\n",
      "\n",
      "Valid loss improved from 0.5554 to 0.5417. Saving checkpoint: files/checkpoint.pth\n",
      "Epoch: 15 | Epoch Time: 0m 12s\n",
      "\tTrain Loss: 0.543\n",
      "\tVal. Loss: 0.542\n",
      "\n",
      "Valid loss improved from 0.5417 to 0.5367. Saving checkpoint: files/checkpoint.pth\n",
      "Epoch: 16 | Epoch Time: 0m 12s\n",
      "\tTrain Loss: 0.529\n",
      "\tVal. Loss: 0.537\n",
      "\n",
      "Valid loss improved from 0.5367 to 0.5128. Saving checkpoint: files/checkpoint.pth\n",
      "Epoch: 17 | Epoch Time: 0m 12s\n",
      "\tTrain Loss: 0.511\n",
      "\tVal. Loss: 0.513\n",
      "\n",
      "Valid loss improved from 0.5128 to 0.4987. Saving checkpoint: files/checkpoint.pth\n",
      "Epoch: 18 | Epoch Time: 0m 12s\n",
      "\tTrain Loss: 0.492\n",
      "\tVal. Loss: 0.499\n",
      "\n",
      "Valid loss improved from 0.4987 to 0.4826. Saving checkpoint: files/checkpoint.pth\n",
      "Epoch: 19 | Epoch Time: 0m 12s\n",
      "\tTrain Loss: 0.477\n",
      "\tVal. Loss: 0.483\n",
      "\n",
      "Valid loss improved from 0.4826 to 0.4699. Saving checkpoint: files/checkpoint.pth\n",
      "Epoch: 20 | Epoch Time: 0m 12s\n",
      "\tTrain Loss: 0.462\n",
      "\tVal. Loss: 0.470\n",
      "\n",
      "Valid loss improved from 0.4699 to 0.4677. Saving checkpoint: files/checkpoint.pth\n",
      "Epoch: 21 | Epoch Time: 0m 12s\n",
      "\tTrain Loss: 0.449\n",
      "\tVal. Loss: 0.468\n",
      "\n",
      "Valid loss improved from 0.4677 to 0.4605. Saving checkpoint: files/checkpoint.pth\n",
      "Epoch: 22 | Epoch Time: 0m 12s\n",
      "\tTrain Loss: 0.435\n",
      "\tVal. Loss: 0.461\n",
      "\n",
      "Valid loss improved from 0.4605 to 0.4394. Saving checkpoint: files/checkpoint.pth\n",
      "Epoch: 23 | Epoch Time: 0m 12s\n",
      "\tTrain Loss: 0.424\n",
      "\tVal. Loss: 0.439\n",
      "\n",
      "Valid loss improved from 0.4394 to 0.4359. Saving checkpoint: files/checkpoint.pth\n",
      "Epoch: 24 | Epoch Time: 0m 12s\n",
      "\tTrain Loss: 0.411\n",
      "\tVal. Loss: 0.436\n",
      "\n",
      "Valid loss improved from 0.4359 to 0.4262. Saving checkpoint: files/checkpoint.pth\n",
      "Epoch: 25 | Epoch Time: 0m 12s\n",
      "\tTrain Loss: 0.400\n",
      "\tVal. Loss: 0.426\n",
      "\n",
      "Epoch: 26 | Epoch Time: 0m 12s\n",
      "\tTrain Loss: 0.391\n",
      "\tVal. Loss: 0.431\n",
      "\n",
      "Epoch: 27 | Epoch Time: 0m 12s\n",
      "\tTrain Loss: 0.378\n",
      "\tVal. Loss: 0.429\n",
      "\n",
      "Valid loss improved from 0.4262 to 0.4193. Saving checkpoint: files/checkpoint.pth\n",
      "Epoch: 28 | Epoch Time: 0m 12s\n",
      "\tTrain Loss: 0.367\n",
      "\tVal. Loss: 0.419\n",
      "\n",
      "Valid loss improved from 0.4193 to 0.4126. Saving checkpoint: files/checkpoint.pth\n",
      "Epoch: 29 | Epoch Time: 0m 12s\n",
      "\tTrain Loss: 0.360\n",
      "\tVal. Loss: 0.413\n",
      "\n",
      "Valid loss improved from 0.4126 to 0.4078. Saving checkpoint: files/checkpoint.pth\n",
      "Epoch: 30 | Epoch Time: 0m 12s\n",
      "\tTrain Loss: 0.351\n",
      "\tVal. Loss: 0.408\n",
      "\n",
      "Valid loss improved from 0.4078 to 0.4076. Saving checkpoint: files/checkpoint.pth\n",
      "Epoch: 31 | Epoch Time: 0m 12s\n",
      "\tTrain Loss: 0.338\n",
      "\tVal. Loss: 0.408\n",
      "\n",
      "Valid loss improved from 0.4076 to 0.4015. Saving checkpoint: files/checkpoint.pth\n",
      "Epoch: 32 | Epoch Time: 0m 12s\n",
      "\tTrain Loss: 0.328\n",
      "\tVal. Loss: 0.401\n",
      "\n",
      "Epoch: 33 | Epoch Time: 0m 12s\n",
      "\tTrain Loss: 0.320\n",
      "\tVal. Loss: 0.405\n",
      "\n",
      "Epoch: 34 | Epoch Time: 0m 12s\n",
      "\tTrain Loss: 0.310\n",
      "\tVal. Loss: 0.412\n",
      "\n",
      "Valid loss improved from 0.4015 to 0.3946. Saving checkpoint: files/checkpoint.pth\n",
      "Epoch: 35 | Epoch Time: 0m 12s\n",
      "\tTrain Loss: 0.302\n",
      "\tVal. Loss: 0.395\n",
      "\n",
      "Epoch: 36 | Epoch Time: 0m 12s\n",
      "\tTrain Loss: 0.294\n",
      "\tVal. Loss: 0.399\n",
      "\n",
      "Epoch: 37 | Epoch Time: 0m 12s\n",
      "\tTrain Loss: 0.287\n",
      "\tVal. Loss: 0.399\n",
      "\n",
      "Valid loss improved from 0.3946 to 0.3890. Saving checkpoint: files/checkpoint.pth\n",
      "Epoch: 38 | Epoch Time: 0m 12s\n",
      "\tTrain Loss: 0.278\n",
      "\tVal. Loss: 0.389\n",
      "\n",
      "Epoch: 39 | Epoch Time: 0m 12s\n",
      "\tTrain Loss: 0.269\n",
      "\tVal. Loss: 0.391\n",
      "\n",
      "Valid loss improved from 0.3890 to 0.3886. Saving checkpoint: files/checkpoint.pth\n",
      "Epoch: 40 | Epoch Time: 0m 12s\n",
      "\tTrain Loss: 0.266\n",
      "\tVal. Loss: 0.389\n",
      "\n",
      "Epoch: 41 | Epoch Time: 0m 12s\n",
      "\tTrain Loss: 0.259\n",
      "\tVal. Loss: 0.393\n",
      "\n",
      "Valid loss improved from 0.3886 to 0.3875. Saving checkpoint: files/checkpoint.pth\n",
      "Epoch: 42 | Epoch Time: 0m 12s\n",
      "\tTrain Loss: 0.254\n",
      "\tVal. Loss: 0.388\n",
      "\n",
      "Valid loss improved from 0.3875 to 0.3856. Saving checkpoint: files/checkpoint.pth\n",
      "Epoch: 43 | Epoch Time: 0m 12s\n",
      "\tTrain Loss: 0.248\n",
      "\tVal. Loss: 0.386\n",
      "\n",
      "Valid loss improved from 0.3856 to 0.3832. Saving checkpoint: files/checkpoint.pth\n",
      "Epoch: 44 | Epoch Time: 0m 12s\n",
      "\tTrain Loss: 0.245\n",
      "\tVal. Loss: 0.383\n",
      "\n",
      "Epoch: 45 | Epoch Time: 0m 12s\n",
      "\tTrain Loss: 0.238\n",
      "\tVal. Loss: 0.389\n",
      "\n",
      "Epoch: 46 | Epoch Time: 0m 12s\n",
      "\tTrain Loss: 0.234\n",
      "\tVal. Loss: 0.385\n",
      "\n",
      "Epoch: 47 | Epoch Time: 0m 12s\n",
      "\tTrain Loss: 0.231\n",
      "\tVal. Loss: 0.387\n",
      "\n",
      "Valid loss improved from 0.3832 to 0.3826. Saving checkpoint: files/checkpoint.pth\n",
      "Epoch: 48 | Epoch Time: 0m 12s\n",
      "\tTrain Loss: 0.227\n",
      "\tVal. Loss: 0.383\n",
      "\n",
      "Epoch: 49 | Epoch Time: 0m 12s\n",
      "\tTrain Loss: 0.223\n",
      "\tVal. Loss: 0.388\n",
      "\n",
      "Epoch: 50 | Epoch Time: 0m 12s\n",
      "\tTrain Loss: 0.221\n",
      "\tVal. Loss: 0.383\n",
      "\n"
     ]
    }
   ],
   "source": [
    "best_valid_loss = float(\"inf\")\n",
    "num_epochs = 50\n",
    "\n",
    "for epoch in range(num_epochs):\n",
    "    start_time = time.time()\n",
    "\n",
    "    train_loss = train(model, train_loader, optimizer, loss_fn, device)\n",
    "    valid_loss = evaluate(model, valid_loader, loss_fn, device)\n",
    "\n",
    "    # Saving the model\n",
    "    if valid_loss < best_valid_loss:\n",
    "        print(f\"Valid loss improved from {best_valid_loss:2.4f} to {valid_loss:2.4f}. Saving checkpoint: {checkpoint_path}\")\n",
    "\n",
    "        best_valid_loss = valid_loss\n",
    "        torch.save(model.state_dict(), checkpoint_path)\n",
    "\n",
    "    end_time = time.time()\n",
    "    epoch_mins, epoch_secs = epoch_time(start_time, end_time)\n",
    "\n",
    "    data_str = f'Epoch: {epoch+1:02} | Epoch Time: {epoch_mins}m {epoch_secs}s\\n'\n",
    "    data_str += f'\\tTrain Loss: {train_loss:.3f}\\n'\n",
    "    data_str += f'\\tVal. Loss: {valid_loss:.3f}\\n'\n",
    "    print(data_str)"
   ]
  },
  {
   "cell_type": "markdown",
   "id": "fbc7c953",
   "metadata": {
    "papermill": {
     "duration": 0.017313,
     "end_time": "2024-06-03T10:18:09.015276",
     "exception": false,
     "start_time": "2024-06-03T10:18:08.997963",
     "status": "completed"
    },
    "tags": []
   },
   "source": [
    "# Testing"
   ]
  },
  {
   "cell_type": "markdown",
   "id": "b674b477",
   "metadata": {
    "papermill": {
     "duration": 0.01765,
     "end_time": "2024-06-03T10:18:09.050328",
     "exception": false,
     "start_time": "2024-06-03T10:18:09.032678",
     "status": "completed"
    },
    "tags": []
   },
   "source": [
    "### Function to get metrics for evaluation"
   ]
  },
  {
   "cell_type": "code",
   "execution_count": 19,
   "id": "e1fe7fe1",
   "metadata": {
    "execution": {
     "iopub.execute_input": "2024-06-03T10:18:09.087494Z",
     "iopub.status.busy": "2024-06-03T10:18:09.086549Z",
     "iopub.status.idle": "2024-06-03T10:18:09.094173Z",
     "shell.execute_reply": "2024-06-03T10:18:09.093307Z"
    },
    "papermill": {
     "duration": 0.028463,
     "end_time": "2024-06-03T10:18:09.096146",
     "exception": false,
     "start_time": "2024-06-03T10:18:09.067683",
     "status": "completed"
    },
    "tags": []
   },
   "outputs": [],
   "source": [
    "def calculate_metrics(y_true, y_pred):\n",
    "    # Ground truth\n",
    "    y_true = y_true.cpu().numpy()\n",
    "    y_true = y_true > 0.5\n",
    "    y_true = y_true.astype(np.uint8)\n",
    "    y_true = y_true.reshape(-1)\n",
    "\n",
    "    # Prediction\n",
    "    y_pred = y_pred.cpu().numpy()\n",
    "    y_pred = y_pred > 0.5\n",
    "    y_pred = y_pred.astype(np.uint8)\n",
    "    y_pred = y_pred.reshape(-1)\n",
    "\n",
    "    score_jaccard = jaccard_score(y_true, y_pred)\n",
    "    score_f1 = f1_score(y_true, y_pred)\n",
    "    score_recall = recall_score(y_true, y_pred)\n",
    "    score_precision = precision_score(y_true, y_pred)\n",
    "    score_acc = accuracy_score(y_true, y_pred)\n",
    "\n",
    "    return [score_jaccard, score_f1, score_recall, score_precision, score_acc]"
   ]
  },
  {
   "cell_type": "markdown",
   "id": "e6ddb776",
   "metadata": {
    "papermill": {
     "duration": 0.017612,
     "end_time": "2024-06-03T10:18:09.131362",
     "exception": false,
     "start_time": "2024-06-03T10:18:09.113750",
     "status": "completed"
    },
    "tags": []
   },
   "source": [
    "### Function to parse the mask"
   ]
  },
  {
   "cell_type": "code",
   "execution_count": 20,
   "id": "ca22050c",
   "metadata": {
    "execution": {
     "iopub.execute_input": "2024-06-03T10:18:09.168499Z",
     "iopub.status.busy": "2024-06-03T10:18:09.167691Z",
     "iopub.status.idle": "2024-06-03T10:18:09.172328Z",
     "shell.execute_reply": "2024-06-03T10:18:09.171654Z"
    },
    "papermill": {
     "duration": 0.025183,
     "end_time": "2024-06-03T10:18:09.174144",
     "exception": false,
     "start_time": "2024-06-03T10:18:09.148961",
     "status": "completed"
    },
    "tags": []
   },
   "outputs": [],
   "source": [
    "def mask_parse(mask):\n",
    "    mask = np.expand_dims(mask, axis=-1)    ## (512, 512, 1)\n",
    "    mask = np.concatenate([mask, mask, mask], axis=-1)  ## (512, 512, 3)\n",
    "    return mask"
   ]
  },
  {
   "cell_type": "markdown",
   "id": "ea6dd088",
   "metadata": {
    "papermill": {
     "duration": 0.017861,
     "end_time": "2024-06-03T10:18:09.209599",
     "exception": false,
     "start_time": "2024-06-03T10:18:09.191738",
     "status": "completed"
    },
    "tags": []
   },
   "source": [
    "### Get test data"
   ]
  },
  {
   "cell_type": "code",
   "execution_count": 21,
   "id": "775e78ca",
   "metadata": {
    "execution": {
     "iopub.execute_input": "2024-06-03T10:18:09.248519Z",
     "iopub.status.busy": "2024-06-03T10:18:09.248000Z",
     "iopub.status.idle": "2024-06-03T10:18:09.254261Z",
     "shell.execute_reply": "2024-06-03T10:18:09.253452Z"
    },
    "papermill": {
     "duration": 0.029038,
     "end_time": "2024-06-03T10:18:09.256280",
     "exception": false,
     "start_time": "2024-06-03T10:18:09.227242",
     "status": "completed"
    },
    "tags": []
   },
   "outputs": [],
   "source": [
    "#  Seeding\n",
    "seeding(42)\n",
    "\n",
    "# Folders\n",
    "create_dir(\"results\")\n",
    "\n",
    "# 指定图像所在的路径和结果保存的路径\n",
    "image_dir = '/kaggle/input/segmentation-all-categories/test_images/test_images'\n",
    "output_dir = '/kaggle/working/predicted_masks'"
   ]
  },
  {
   "cell_type": "markdown",
   "id": "a44d49ec",
   "metadata": {
    "papermill": {
     "duration": 0.0176,
     "end_time": "2024-06-03T10:18:09.292776",
     "exception": false,
     "start_time": "2024-06-03T10:18:09.275176",
     "status": "completed"
    },
    "tags": []
   },
   "source": [
    "### Load checkpoints file"
   ]
  },
  {
   "cell_type": "code",
   "execution_count": 22,
   "id": "d5444753",
   "metadata": {
    "_kg_hide-output": true,
    "execution": {
     "iopub.execute_input": "2024-06-03T10:18:09.330272Z",
     "iopub.status.busy": "2024-06-03T10:18:09.329903Z",
     "iopub.status.idle": "2024-06-03T10:18:09.735421Z",
     "shell.execute_reply": "2024-06-03T10:18:09.734462Z"
    },
    "papermill": {
     "duration": 0.4263,
     "end_time": "2024-06-03T10:18:09.737478",
     "exception": false,
     "start_time": "2024-06-03T10:18:09.311178",
     "status": "completed"
    },
    "tags": []
   },
   "outputs": [
    {
     "data": {
      "text/plain": [
       "build_unet(\n",
       "  (e1): encoder_block(\n",
       "    (conv): conv_block(\n",
       "      (conv1): Conv2d(3, 64, kernel_size=(3, 3), stride=(1, 1), padding=(1, 1))\n",
       "      (bn1): BatchNorm2d(64, eps=1e-05, momentum=0.1, affine=True, track_running_stats=True)\n",
       "      (conv2): Conv2d(64, 64, kernel_size=(3, 3), stride=(1, 1), padding=(1, 1))\n",
       "      (bn2): BatchNorm2d(64, eps=1e-05, momentum=0.1, affine=True, track_running_stats=True)\n",
       "      (relu): ReLU()\n",
       "    )\n",
       "    (pool): MaxPool2d(kernel_size=(2, 2), stride=(2, 2), padding=0, dilation=1, ceil_mode=False)\n",
       "  )\n",
       "  (e2): encoder_block(\n",
       "    (conv): conv_block(\n",
       "      (conv1): Conv2d(64, 128, kernel_size=(3, 3), stride=(1, 1), padding=(1, 1))\n",
       "      (bn1): BatchNorm2d(128, eps=1e-05, momentum=0.1, affine=True, track_running_stats=True)\n",
       "      (conv2): Conv2d(128, 128, kernel_size=(3, 3), stride=(1, 1), padding=(1, 1))\n",
       "      (bn2): BatchNorm2d(128, eps=1e-05, momentum=0.1, affine=True, track_running_stats=True)\n",
       "      (relu): ReLU()\n",
       "    )\n",
       "    (pool): MaxPool2d(kernel_size=(2, 2), stride=(2, 2), padding=0, dilation=1, ceil_mode=False)\n",
       "  )\n",
       "  (e3): encoder_block(\n",
       "    (conv): conv_block(\n",
       "      (conv1): Conv2d(128, 256, kernel_size=(3, 3), stride=(1, 1), padding=(1, 1))\n",
       "      (bn1): BatchNorm2d(256, eps=1e-05, momentum=0.1, affine=True, track_running_stats=True)\n",
       "      (conv2): Conv2d(256, 256, kernel_size=(3, 3), stride=(1, 1), padding=(1, 1))\n",
       "      (bn2): BatchNorm2d(256, eps=1e-05, momentum=0.1, affine=True, track_running_stats=True)\n",
       "      (relu): ReLU()\n",
       "    )\n",
       "    (pool): MaxPool2d(kernel_size=(2, 2), stride=(2, 2), padding=0, dilation=1, ceil_mode=False)\n",
       "  )\n",
       "  (e4): encoder_block(\n",
       "    (conv): conv_block(\n",
       "      (conv1): Conv2d(256, 512, kernel_size=(3, 3), stride=(1, 1), padding=(1, 1))\n",
       "      (bn1): BatchNorm2d(512, eps=1e-05, momentum=0.1, affine=True, track_running_stats=True)\n",
       "      (conv2): Conv2d(512, 512, kernel_size=(3, 3), stride=(1, 1), padding=(1, 1))\n",
       "      (bn2): BatchNorm2d(512, eps=1e-05, momentum=0.1, affine=True, track_running_stats=True)\n",
       "      (relu): ReLU()\n",
       "    )\n",
       "    (pool): MaxPool2d(kernel_size=(2, 2), stride=(2, 2), padding=0, dilation=1, ceil_mode=False)\n",
       "  )\n",
       "  (b): conv_block(\n",
       "    (conv1): Conv2d(512, 1024, kernel_size=(3, 3), stride=(1, 1), padding=(1, 1))\n",
       "    (bn1): BatchNorm2d(1024, eps=1e-05, momentum=0.1, affine=True, track_running_stats=True)\n",
       "    (conv2): Conv2d(1024, 1024, kernel_size=(3, 3), stride=(1, 1), padding=(1, 1))\n",
       "    (bn2): BatchNorm2d(1024, eps=1e-05, momentum=0.1, affine=True, track_running_stats=True)\n",
       "    (relu): ReLU()\n",
       "  )\n",
       "  (d1): decoder_block(\n",
       "    (up): ConvTranspose2d(1024, 512, kernel_size=(2, 2), stride=(2, 2))\n",
       "    (conv): conv_block(\n",
       "      (conv1): Conv2d(1024, 512, kernel_size=(3, 3), stride=(1, 1), padding=(1, 1))\n",
       "      (bn1): BatchNorm2d(512, eps=1e-05, momentum=0.1, affine=True, track_running_stats=True)\n",
       "      (conv2): Conv2d(512, 512, kernel_size=(3, 3), stride=(1, 1), padding=(1, 1))\n",
       "      (bn2): BatchNorm2d(512, eps=1e-05, momentum=0.1, affine=True, track_running_stats=True)\n",
       "      (relu): ReLU()\n",
       "    )\n",
       "  )\n",
       "  (d2): decoder_block(\n",
       "    (up): ConvTranspose2d(512, 256, kernel_size=(2, 2), stride=(2, 2))\n",
       "    (conv): conv_block(\n",
       "      (conv1): Conv2d(512, 256, kernel_size=(3, 3), stride=(1, 1), padding=(1, 1))\n",
       "      (bn1): BatchNorm2d(256, eps=1e-05, momentum=0.1, affine=True, track_running_stats=True)\n",
       "      (conv2): Conv2d(256, 256, kernel_size=(3, 3), stride=(1, 1), padding=(1, 1))\n",
       "      (bn2): BatchNorm2d(256, eps=1e-05, momentum=0.1, affine=True, track_running_stats=True)\n",
       "      (relu): ReLU()\n",
       "    )\n",
       "  )\n",
       "  (d3): decoder_block(\n",
       "    (up): ConvTranspose2d(256, 128, kernel_size=(2, 2), stride=(2, 2))\n",
       "    (conv): conv_block(\n",
       "      (conv1): Conv2d(256, 128, kernel_size=(3, 3), stride=(1, 1), padding=(1, 1))\n",
       "      (bn1): BatchNorm2d(128, eps=1e-05, momentum=0.1, affine=True, track_running_stats=True)\n",
       "      (conv2): Conv2d(128, 128, kernel_size=(3, 3), stride=(1, 1), padding=(1, 1))\n",
       "      (bn2): BatchNorm2d(128, eps=1e-05, momentum=0.1, affine=True, track_running_stats=True)\n",
       "      (relu): ReLU()\n",
       "    )\n",
       "  )\n",
       "  (d4): decoder_block(\n",
       "    (up): ConvTranspose2d(128, 64, kernel_size=(2, 2), stride=(2, 2))\n",
       "    (conv): conv_block(\n",
       "      (conv1): Conv2d(128, 64, kernel_size=(3, 3), stride=(1, 1), padding=(1, 1))\n",
       "      (bn1): BatchNorm2d(64, eps=1e-05, momentum=0.1, affine=True, track_running_stats=True)\n",
       "      (conv2): Conv2d(64, 64, kernel_size=(3, 3), stride=(1, 1), padding=(1, 1))\n",
       "      (bn2): BatchNorm2d(64, eps=1e-05, momentum=0.1, affine=True, track_running_stats=True)\n",
       "      (relu): ReLU()\n",
       "    )\n",
       "  )\n",
       "  (outputs): Conv2d(64, 1, kernel_size=(1, 1), stride=(1, 1))\n",
       ")"
      ]
     },
     "execution_count": 22,
     "metadata": {},
     "output_type": "execute_result"
    }
   ],
   "source": [
    "checkpoint_path = \"files/checkpoint.pth\"\n",
    "\n",
    "device = torch.device('cuda' if torch.cuda.is_available() else 'cpu')\n",
    "model = build_unet()\n",
    "model = model.to(device)\n",
    "model.load_state_dict(torch.load(checkpoint_path, map_location=device))\n",
    "model.eval()"
   ]
  },
  {
   "cell_type": "markdown",
   "id": "4b980ce2",
   "metadata": {
    "papermill": {
     "duration": 0.018122,
     "end_time": "2024-06-03T10:18:09.773709",
     "exception": false,
     "start_time": "2024-06-03T10:18:09.755587",
     "status": "completed"
    },
    "tags": []
   },
   "source": [
    "### test"
   ]
  },
  {
   "cell_type": "code",
   "execution_count": 23,
   "id": "848af0c4",
   "metadata": {
    "execution": {
     "iopub.execute_input": "2024-06-03T10:18:09.811762Z",
     "iopub.status.busy": "2024-06-03T10:18:09.811385Z",
     "iopub.status.idle": "2024-06-03T10:18:21.422446Z",
     "shell.execute_reply": "2024-06-03T10:18:21.421630Z"
    },
    "papermill": {
     "duration": 11.632943,
     "end_time": "2024-06-03T10:18:21.424871",
     "exception": false,
     "start_time": "2024-06-03T10:18:09.791928",
     "status": "completed"
    },
    "tags": []
   },
   "outputs": [],
   "source": [
    "import cv2\n",
    "import numpy as np\n",
    "import torch\n",
    "import os\n",
    "import glob\n",
    "from time import time\n",
    "\n",
    "def mask_parse(mask):\n",
    "    mask = np.expand_dims(mask, axis=-1)  # (512, 512, 1)\n",
    "    mask = np.concatenate([mask, mask, mask], axis=-1)  # (512, 512, 3)\n",
    "    return mask\n",
    "\n",
    "# 指定图像所在的路径和结果保存的路径\n",
    "image_dir = '/kaggle/input/new-d-n-chosen-images/D_N_test_images/D_N_test_images'\n",
    "output_dir = '/kaggle/working/predicted_test'\n",
    "\n",
    "# 如果输出目录不存在，创建它\n",
    "if not os.path.exists(output_dir):\n",
    "    os.makedirs(output_dir)\n",
    "\n",
    "# 列出所有图像文件\n",
    "image_paths = glob.glob(os.path.join(image_dir, '*.jpg'))  # 假设所有文件都是jpg格式\n",
    "\n",
    "device = torch.device(\"cuda\" if torch.cuda.is_available() else \"cpu\")\n",
    "\n",
    "for image_path in image_paths:\n",
    "    # Extract the name\n",
    "    name = os.path.basename(image_path).split(\".\")[0]\n",
    "\n",
    "    # Reading image\n",
    "    image = cv2.imread(image_path, cv2.IMREAD_COLOR)  # Adjust dimensions if needed\n",
    "    x = np.transpose(image, (2, 0, 1))  # Adjust preprocessing as per model requirements\n",
    "    x = x / 255.0\n",
    "    x = np.expand_dims(x, axis=0)\n",
    "    x = x.astype(np.float32)\n",
    "    x = torch.from_numpy(x)\n",
    "    x = x.to(device)\n",
    "\n",
    "    with torch.no_grad():\n",
    "        # Prediction\n",
    "        start_time = time()\n",
    "        pred_y = model(x)\n",
    "        pred_y = torch.sigmoid(pred_y)\n",
    "        total_time = time() - start_time\n",
    "\n",
    "        pred_y = pred_y[0].cpu().numpy()\n",
    "        pred_y = np.squeeze(pred_y, axis=0)\n",
    "        pred_y = pred_y > 0.5\n",
    "        pred_y = np.array(pred_y, dtype=np.uint8)\n",
    "\n",
    "    # Saving masks\n",
    "    pred_mask = mask_parse(pred_y)\n",
    "    save_path = os.path.join(output_dir, f\"{name}.jpg\")\n",
    "    cv2.imwrite(save_path, pred_mask * 255)"
   ]
  },
  {
   "cell_type": "code",
   "execution_count": 24,
   "id": "874f9d65",
   "metadata": {
    "execution": {
     "iopub.execute_input": "2024-06-03T10:18:21.464297Z",
     "iopub.status.busy": "2024-06-03T10:18:21.463459Z",
     "iopub.status.idle": "2024-06-03T10:19:16.096366Z",
     "shell.execute_reply": "2024-06-03T10:19:16.095340Z"
    },
    "papermill": {
     "duration": 54.654937,
     "end_time": "2024-06-03T10:19:16.098853",
     "exception": false,
     "start_time": "2024-06-03T10:18:21.443916",
     "status": "completed"
    },
    "tags": []
   },
   "outputs": [],
   "source": [
    "import cv2\n",
    "import numpy as np\n",
    "import torch\n",
    "import os\n",
    "import glob\n",
    "from time import time\n",
    "\n",
    "def mask_parse(mask):\n",
    "    mask = np.expand_dims(mask, axis=-1)  # (512, 512, 1)\n",
    "    mask = np.concatenate([mask, mask, mask], axis=-1)  # (512, 512, 3)\n",
    "    return mask\n",
    "\n",
    "# 指定图像所在的路径和结果保存的路径\n",
    "image_dir = '/kaggle/input/new-d-n-chosen-images/D_N_train_images/D_N_train_images'\n",
    "output_dir = '/kaggle/working/predicted_train'\n",
    "\n",
    "# 如果输出目录不存在，创建它\n",
    "if not os.path.exists(output_dir):\n",
    "    os.makedirs(output_dir)\n",
    "\n",
    "# 列出所有图像文件\n",
    "image_paths = glob.glob(os.path.join(image_dir, '*.jpg'))  # 假设所有文件都是jpg格式\n",
    "\n",
    "device = torch.device(\"cuda\" if torch.cuda.is_available() else \"cpu\")\n",
    "\n",
    "for image_path in image_paths:\n",
    "    # Extract the name\n",
    "    name = os.path.basename(image_path).split(\".\")[0]\n",
    "\n",
    "    # Reading image\n",
    "    image = cv2.imread(image_path, cv2.IMREAD_COLOR)  # Adjust dimensions if needed\n",
    "    x = np.transpose(image, (2, 0, 1))  # Adjust preprocessing as per model requirements\n",
    "    x = x / 255.0\n",
    "    x = np.expand_dims(x, axis=0)\n",
    "    x = x.astype(np.float32)\n",
    "    x = torch.from_numpy(x)\n",
    "    x = x.to(device)\n",
    "\n",
    "    with torch.no_grad():\n",
    "        # Prediction\n",
    "        start_time = time()\n",
    "        pred_y = model(x)\n",
    "        pred_y = torch.sigmoid(pred_y)\n",
    "        total_time = time() - start_time\n",
    "\n",
    "        pred_y = pred_y[0].cpu().numpy()\n",
    "        pred_y = np.squeeze(pred_y, axis=0)\n",
    "        pred_y = pred_y > 0.5\n",
    "        pred_y = np.array(pred_y, dtype=np.uint8)\n",
    "\n",
    "    # Saving masks\n",
    "    pred_mask = mask_parse(pred_y)\n",
    "    save_path = os.path.join(output_dir, f\"{name}.jpg\")\n",
    "    cv2.imwrite(save_path, pred_mask * 255)"
   ]
  },
  {
   "cell_type": "code",
   "execution_count": 25,
   "id": "cc1e5b91",
   "metadata": {
    "execution": {
     "iopub.execute_input": "2024-06-03T10:19:16.136647Z",
     "iopub.status.busy": "2024-06-03T10:19:16.136090Z",
     "iopub.status.idle": "2024-06-03T10:19:28.534647Z",
     "shell.execute_reply": "2024-06-03T10:19:28.533842Z"
    },
    "papermill": {
     "duration": 12.419584,
     "end_time": "2024-06-03T10:19:28.536957",
     "exception": false,
     "start_time": "2024-06-03T10:19:16.117373",
     "status": "completed"
    },
    "tags": []
   },
   "outputs": [],
   "source": [
    "import cv2\n",
    "import numpy as np\n",
    "import torch\n",
    "import os\n",
    "import glob\n",
    "from time import time\n",
    "\n",
    "def mask_parse(mask):\n",
    "    mask = np.expand_dims(mask, axis=-1)  # (512, 512, 1)\n",
    "    mask = np.concatenate([mask, mask, mask], axis=-1)  # (512, 512, 3)\n",
    "    return mask\n",
    "\n",
    "# 指定图像所在的路径和结果保存的路径\n",
    "image_dir = '/kaggle/input/new-d-n-chosen-images/D_N_validation_images/D_N_validation_images'\n",
    "output_dir = '/kaggle/working/predicted_validation'\n",
    "\n",
    "# 如果输出目录不存在，创建它\n",
    "if not os.path.exists(output_dir):\n",
    "    os.makedirs(output_dir)\n",
    "\n",
    "# 列出所有图像文件\n",
    "image_paths = glob.glob(os.path.join(image_dir, '*.jpg'))  # 假设所有文件都是jpg格式\n",
    "\n",
    "device = torch.device(\"cuda\" if torch.cuda.is_available() else \"cpu\")\n",
    "\n",
    "for image_path in image_paths:\n",
    "    # Extract the name\n",
    "    name = os.path.basename(image_path).split(\".\")[0]\n",
    "\n",
    "    # Reading image\n",
    "    image = cv2.imread(image_path, cv2.IMREAD_COLOR)  # Adjust dimensions if needed\n",
    "    x = np.transpose(image, (2, 0, 1))  # Adjust preprocessing as per model requirements\n",
    "    x = x / 255.0\n",
    "    x = np.expand_dims(x, axis=0)\n",
    "    x = x.astype(np.float32)\n",
    "    x = torch.from_numpy(x)\n",
    "    x = x.to(device)\n",
    "\n",
    "    with torch.no_grad():\n",
    "        # Prediction\n",
    "        start_time = time()\n",
    "        pred_y = model(x)\n",
    "        pred_y = torch.sigmoid(pred_y)\n",
    "        total_time = time() - start_time\n",
    "\n",
    "        pred_y = pred_y[0].cpu().numpy()\n",
    "        pred_y = np.squeeze(pred_y, axis=0)\n",
    "        pred_y = pred_y > 0.5\n",
    "        pred_y = np.array(pred_y, dtype=np.uint8)\n",
    "\n",
    "    # Saving masks\n",
    "    pred_mask = mask_parse(pred_y)\n",
    "    save_path = os.path.join(output_dir, f\"{name}.jpg\")\n",
    "    cv2.imwrite(save_path, pred_mask * 255)"
   ]
  },
  {
   "cell_type": "code",
   "execution_count": 26,
   "id": "e2557859",
   "metadata": {
    "execution": {
     "iopub.execute_input": "2024-06-03T10:19:28.574972Z",
     "iopub.status.busy": "2024-06-03T10:19:28.574626Z",
     "iopub.status.idle": "2024-06-03T10:19:29.260321Z",
     "shell.execute_reply": "2024-06-03T10:19:29.259387Z"
    },
    "papermill": {
     "duration": 0.708897,
     "end_time": "2024-06-03T10:19:29.264604",
     "exception": false,
     "start_time": "2024-06-03T10:19:28.555707",
     "status": "completed"
    },
    "tags": []
   },
   "outputs": [
    {
     "data": {
      "image/png": "[encoded data removed]",
      "text/plain": [
       "<Figure size 2000x1000 with 5 Axes>"
      ]
     },
     "metadata": {},
     "output_type": "display_data"
    }
   ],
   "source": [
    "import os\n",
    "import matplotlib.pyplot as plt\n",
    "import cv2\n",
    "import glob\n",
    "\n",
    "# 指定文件夹路径\n",
    "image_folder = '/kaggle/working/predicted_train'\n",
    "\n",
    "# 获取该文件夹内所有的图像路径\n",
    "image_paths = glob.glob(os.path.join(image_folder, '*'))\n",
    "# 例如，仅展示前5个图像\n",
    "image_paths = image_paths[:5]\n",
    "\n",
    "# 设置图像大小\n",
    "plt.figure(figsize=(20, 10))\n",
    "\n",
    "for i, image_path in enumerate(image_paths):\n",
    "    # 读取图像\n",
    "    image = cv2.imread(image_path)\n",
    "    # 转换颜色空间从BGR到RGB\n",
    "    image = cv2.cvtColor(image, cv2.COLOR_BGR2RGB)\n",
    "    \n",
    "    # 创建子图\n",
    "    plt.subplot(1, len(image_paths), i+1)\n",
    "    plt.imshow(image)\n",
    "    plt.title(f'Image {i+1}')\n",
    "    plt.axis('off')\n",
    "\n",
    "plt.show()"
   ]
  }
 ],
 "metadata": {
  "kaggle": {
   "accelerator": "gpu",
   "dataSources": [
    {
     "datasetId": 3636171,
     "sourceId": 6318833,
     "sourceType": "datasetVersion"
    },
    {
     "datasetId": 4693122,
     "sourceId": 7974890,
     "sourceType": "datasetVersion"
    },
    {
     "datasetId": 5140119,
     "sourceId": 8592865,
     "sourceType": "datasetVersion"
    }
   ],
   "dockerImageVersionId": 30528,
   "isGpuEnabled": true,
   "isInternetEnabled": true,
   "language": "python",
   "sourceType": "notebook"
  },
  "kernelspec": {
   "display_name": "Python 3",
   "language": "python",
   "name": "python3"
  },
  "language_info": {
   "codemirror_mode": {
    "name": "ipython",
    "version": 3
   },
   "file_extension": ".py",
   "mimetype": "text/x-python",
   "name": "python",
   "nbconvert_exporter": "python",
   "pygments_lexer": "ipython3",
   "version": "3.10.12"
  },
  "papermill": {
   "default_parameters": {},
   "duration": 715.61281,
   "end_time": "2024-06-03T10:19:31.011282",
   "environment_variables": {},
   "exception": null,
   "input_path": "__notebook__.ipynb",
   "output_path": "__notebook__.ipynb",
   "parameters": {},
   "start_time": "2024-06-03T10:07:35.398472",
   "version": "2.4.0"
  }
 },
 "nbformat": 4,
 "nbformat_minor": 5
}
